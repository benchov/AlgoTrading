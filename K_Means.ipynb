{
  "nbformat": 4,
  "nbformat_minor": 0,
  "metadata": {
    "colab": {
      "provenance": [],
      "authorship_tag": "ABX9TyNYTLnKaGKEeRMo0XLLNaBP",
      "include_colab_link": true
    },
    "kernelspec": {
      "name": "python3",
      "display_name": "Python 3"
    },
    "language_info": {
      "name": "python"
    }
  },
  "cells": [
    {
      "cell_type": "markdown",
      "metadata": {
        "id": "view-in-github",
        "colab_type": "text"
      },
      "source": [
        "<a href=\"https://colab.research.google.com/github/benchov/AlgoTrading/blob/master/K_Means.ipynb\" target=\"_parent\"><img src=\"https://colab.research.google.com/assets/colab-badge.svg\" alt=\"Open In Colab\"/></a>"
      ]
    },
    {
      "cell_type": "code",
      "source": [
        "!pip install kneed"
      ],
      "metadata": {
        "colab": {
          "base_uri": "https://localhost:8080/"
        },
        "id": "MzVAa97lFfVj",
        "outputId": "61dc6801-071e-4f89-8df2-e4fdc39e32af"
      },
      "execution_count": 4,
      "outputs": [
        {
          "output_type": "stream",
          "name": "stdout",
          "text": [
            "Looking in indexes: https://pypi.org/simple, https://us-python.pkg.dev/colab-wheels/public/simple/\n",
            "Collecting kneed\n",
            "  Downloading kneed-0.8.1-py2.py3-none-any.whl (10 kB)\n",
            "Requirement already satisfied: numpy>=1.14.2 in /usr/local/lib/python3.8/dist-packages (from kneed) (1.21.6)\n",
            "Requirement already satisfied: scipy>=1.0.0 in /usr/local/lib/python3.8/dist-packages (from kneed) (1.7.3)\n",
            "Installing collected packages: kneed\n",
            "Successfully installed kneed-0.8.1\n"
          ]
        }
      ]
    },
    {
      "cell_type": "code",
      "execution_count": 7,
      "metadata": {
        "id": "X5i4ft474-wy"
      },
      "outputs": [],
      "source": [
        "# remove unwanted warnings\n",
        "import warnings\n",
        "warnings.simplefilter(action='ignore', category=FutureWarning)\n",
        "\n",
        "# data extraction and management\n",
        "import pandas as pd\n",
        "import numpy as np\n",
        "from pandas_datareader.data import DataReader\n",
        "from pandas_datareader.nasdaq_trader import get_nasdaq_symbols\n",
        "\n",
        "# feature engineering\n",
        "from sklearn.preprocessing import StandardScaler\n",
        "\n",
        "# machine learning\n",
        "from sklearn.cluster import KMeans\n",
        "from sklearn import metrics\n",
        "from kneed import KneeLocator\n",
        "\n",
        "# Cointegration and statisctic\n",
        "from statsmodels.tsa.stattools import coint\n",
        "import statsmodels.api as simplefilter\n",
        "\n",
        "# reporting and visualisation\n",
        "from sklearn.manifold import TSNE\n",
        "import matplotlib.pyplot as plt\n",
        "import matplotlib.cm as cm\n",
        "%matplotlib inline"
      ]
    },
    {
      "cell_type": "code",
      "source": [],
      "metadata": {
        "id": "sHgTdb9dIYPA"
      },
      "execution_count": null,
      "outputs": []
    }
  ]
}