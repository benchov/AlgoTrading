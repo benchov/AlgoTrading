{
  "nbformat": 4,
  "nbformat_minor": 0,
  "metadata": {
    "colab": {
      "provenance": [],
      "authorship_tag": "ABX9TyP+FkL7iySYPbtf7tuk9ISl",
      "include_colab_link": true
    },
    "kernelspec": {
      "name": "python3",
      "display_name": "Python 3"
    },
    "language_info": {
      "name": "python"
    }
  },
  "cells": [
    {
      "cell_type": "markdown",
      "metadata": {
        "id": "view-in-github",
        "colab_type": "text"
      },
      "source": [
        "<a href=\"https://colab.research.google.com/github/benchov/AlgoTrading/blob/master/ALPACA_Statistical_Arbitrage_Project.ipynb\" target=\"_parent\"><img src=\"https://colab.research.google.com/assets/colab-badge.svg\" alt=\"Open In Colab\"/></a>"
      ]
    },
    {
      "cell_type": "code",
      "execution_count": 91,
      "metadata": {
        "colab": {
          "base_uri": "https://localhost:8080/"
        },
        "id": "etooASeX5EwL",
        "outputId": "0a7c025d-d0df-4e63-c3b6-c8ab2830c886"
      },
      "outputs": [
        {
          "output_type": "stream",
          "name": "stdout",
          "text": [
            "Looking in indexes: https://pypi.org/simple, https://us-python.pkg.dev/colab-wheels/public/simple/\n",
            "Requirement already satisfied: alpaca-py in /usr/local/lib/python3.8/dist-packages (0.7.1)\n",
            "Requirement already satisfied: sseclient-py<2.0.0,>=1.7.2 in /usr/local/lib/python3.8/dist-packages (from alpaca-py) (1.7.2)\n",
            "Requirement already satisfied: pydantic<2.0.0,>=1.9.0 in /usr/local/lib/python3.8/dist-packages (from alpaca-py) (1.10.4)\n",
            "Requirement already satisfied: requests<3.0.0,>=2.27.1 in /usr/local/lib/python3.8/dist-packages (from alpaca-py) (2.28.2)\n",
            "Requirement already satisfied: msgpack<2.0.0,>=1.0.3 in /usr/local/lib/python3.8/dist-packages (from alpaca-py) (1.0.4)\n",
            "Requirement already satisfied: websockets<11.0,>=10.2 in /usr/local/lib/python3.8/dist-packages (from alpaca-py) (10.4)\n",
            "Requirement already satisfied: pandas<2.0.0,>=1.3.5 in /usr/local/lib/python3.8/dist-packages (from alpaca-py) (1.3.5)\n",
            "Requirement already satisfied: python-dateutil>=2.7.3 in /usr/local/lib/python3.8/dist-packages (from pandas<2.0.0,>=1.3.5->alpaca-py) (2.8.2)\n",
            "Requirement already satisfied: numpy>=1.17.3 in /usr/local/lib/python3.8/dist-packages (from pandas<2.0.0,>=1.3.5->alpaca-py) (1.21.6)\n",
            "Requirement already satisfied: pytz>=2017.3 in /usr/local/lib/python3.8/dist-packages (from pandas<2.0.0,>=1.3.5->alpaca-py) (2022.7.1)\n",
            "Requirement already satisfied: typing-extensions>=4.2.0 in /usr/local/lib/python3.8/dist-packages (from pydantic<2.0.0,>=1.9.0->alpaca-py) (4.4.0)\n",
            "Requirement already satisfied: urllib3<1.27,>=1.21.1 in /usr/local/lib/python3.8/dist-packages (from requests<3.0.0,>=2.27.1->alpaca-py) (1.24.3)\n",
            "Requirement already satisfied: idna<4,>=2.5 in /usr/local/lib/python3.8/dist-packages (from requests<3.0.0,>=2.27.1->alpaca-py) (2.10)\n",
            "Requirement already satisfied: charset-normalizer<4,>=2 in /usr/local/lib/python3.8/dist-packages (from requests<3.0.0,>=2.27.1->alpaca-py) (2.1.1)\n",
            "Requirement already satisfied: certifi>=2017.4.17 in /usr/local/lib/python3.8/dist-packages (from requests<3.0.0,>=2.27.1->alpaca-py) (2022.12.7)\n",
            "Requirement already satisfied: six>=1.5 in /usr/local/lib/python3.8/dist-packages (from python-dateutil>=2.7.3->pandas<2.0.0,>=1.3.5->alpaca-py) (1.15.0)\n"
          ]
        }
      ],
      "source": [
        "!pip install alpaca-py"
      ]
    },
    {
      "cell_type": "code",
      "source": [
        "# imports\n",
        "from alpaca.trading.client import TradingClient\n",
        "from alpaca.trading.requests import GetAssetsRequest\n",
        "from alpaca.trading.enums import AssetClass, AssetStatus\n",
        "from alpaca.data.historical import StockHistoricalDataClient\n",
        "from alpaca.data.requests import StockBarsRequest\n",
        "from alpaca.data.timeframe import TimeFrame\n",
        "from datetime import datetime"
      ],
      "metadata": {
        "id": "169kWETG5Jlt"
      },
      "execution_count": 92,
      "outputs": []
    },
    {
      "cell_type": "code",
      "source": [
        "# API keys for Alpaca\n",
        "API_KEY = 'PKJAMRGMC0EMO7LCX999'\n",
        "SECRET_KEY = 'gRhoCnuCZ7qpzQkH1NRSMVQZXNGyNcurvrexeJEp'"
      ],
      "metadata": {
        "id": "Y7M98fkL5pS6"
      },
      "execution_count": 93,
      "outputs": []
    },
    {
      "cell_type": "code",
      "source": [
        "# creating an instance of client\n",
        "trading_client = TradingClient(API_KEY, SECRET_KEY, paper=True)"
      ],
      "metadata": {
        "id": "P-fItoP66sre"
      },
      "execution_count": 94,
      "outputs": []
    },
    {
      "cell_type": "code",
      "source": [
        "# test the availability of the api by account information\n",
        "account = trading_client.get_account()\n",
        "print(account)"
      ],
      "metadata": {
        "colab": {
          "base_uri": "https://localhost:8080/"
        },
        "id": "Kb8y7k5I678U",
        "outputId": "d88603d2-ce4e-4781-a2df-93103ef538a2"
      },
      "execution_count": 95,
      "outputs": [
        {
          "output_type": "stream",
          "name": "stdout",
          "text": [
            "id=UUID('d38ec6c2-a23b-4708-a064-cda26744e218') account_number='PA3OJP423MLE' status=<AccountStatus.ACTIVE: 'ACTIVE'> crypto_status=<AccountStatus.ACTIVE: 'ACTIVE'> currency='USD' buying_power='200000' regt_buying_power='200000' daytrading_buying_power='0' non_marginable_buying_power='100000' cash='100000' accrued_fees='0' pending_transfer_out=None pending_transfer_in='0' portfolio_value='100000' pattern_day_trader=False trading_blocked=False transfers_blocked=False account_blocked=False created_at=datetime.datetime(2022, 12, 22, 19, 56, 32, 73526, tzinfo=datetime.timezone.utc) trade_suspended_by_user=False multiplier='2' shorting_enabled=True equity='100000' last_equity='100000' long_market_value='0' short_market_value='0' initial_margin='0' maintenance_margin='0' last_maintenance_margin='0' sma='100000' daytrade_count=0\n"
          ]
        }
      ]
    },
    {
      "cell_type": "code",
      "source": [
        "# get the available US equity stocks\n",
        "search_params = GetAssetsRequest(asset_class=AssetClass.US_EQUITY, status=AssetStatus.ACTIVE)\n",
        "assets = trading_client.get_all_assets(search_params)\n",
        "asset_list = []\n",
        "for i in assets:\n",
        "  if i.shortable == True and i.tradable == True and i.fractionable == True:\n",
        "    asset_list.append(i.symbol)\n",
        "asset_list[:5],len(asset_list)"
      ],
      "metadata": {
        "colab": {
          "base_uri": "https://localhost:8080/"
        },
        "id": "4G_gPFr7LIK0",
        "outputId": "ed470f92-7084-43ba-f7da-0ddc7ad61f71"
      },
      "execution_count": 96,
      "outputs": [
        {
          "output_type": "execute_result",
          "data": {
            "text/plain": [
              "(['NTAP', 'NTB', 'NTCT', 'PCH', 'PCTY'], 3849)"
            ]
          },
          "metadata": {},
          "execution_count": 96
        }
      ]
    },
    {
      "cell_type": "code",
      "source": [
        "assets[0]"
      ],
      "metadata": {
        "colab": {
          "base_uri": "https://localhost:8080/"
        },
        "id": "BAuDKTjLRBVV",
        "outputId": "8279503e-e7c3-4f85-9756-ab27893614c8"
      },
      "execution_count": 97,
      "outputs": [
        {
          "output_type": "execute_result",
          "data": {
            "text/plain": [
              "{   'asset_class': <AssetClass.US_EQUITY: 'us_equity'>,\n",
              "    'easy_to_borrow': False,\n",
              "    'exchange': <AssetExchange.OTC: 'OTC'>,\n",
              "    'fractionable': False,\n",
              "    'id': UUID('9f3d7508-c70e-486c-92f8-4079224b609c'),\n",
              "    'maintenance_margin_requirement': 100.0,\n",
              "    'marginable': False,\n",
              "    'min_order_size': None,\n",
              "    'min_trade_increment': None,\n",
              "    'name': 'ALFI INC Common Shares',\n",
              "    'price_increment': None,\n",
              "    'shortable': False,\n",
              "    'status': <AssetStatus.ACTIVE: 'active'>,\n",
              "    'symbol': 'ALFIQ',\n",
              "    'tradable': False}"
            ]
          },
          "metadata": {},
          "execution_count": 97
        }
      ]
    },
    {
      "cell_type": "markdown",
      "source": [
        "#### Get asset price history - 200 steps back into past.\n",
        "\n",
        "\n",
        "1.   Createing a function which get the filtered available assets\n",
        "2.   Get only those which has enough data (for example enough day to the strategy can calculate the cointegration\n",
        "3.   Save into a DataFrame\n",
        "\n",
        "\n",
        "\n"
      ],
      "metadata": {
        "id": "S9M4rNgWfV1j"
      }
    },
    {
      "cell_type": "code",
      "source": [
        "# Get data from ALPACA server\n",
        "symbol_client = StockHistoricalDataClient(API_KEY, SECRET_KEY)\n",
        "multi_symbol_params = StockBarsRequest(symbol_or_symbols=asset_list[:1000], \n",
        "                                        timeframe=TimeFrame.Hour,\n",
        "                                        start=\"2023-01-01 00:00:00\"\n",
        "                                        )\n",
        " \n",
        "bars = symbol_client.get_stock_bars(multi_symbol_params)\n",
        "\n",
        "# turn data into DataFrame\n",
        "df_bars = bars.df"
      ],
      "metadata": {
        "id": "NR4NrXzeLRrM"
      },
      "execution_count": 90,
      "outputs": []
    },
    {
      "cell_type": "code",
      "source": [
        "tickers = df_bars.index.get_level_values(0).unique()"
      ],
      "metadata": {
        "colab": {
          "base_uri": "https://localhost:8080/"
        },
        "id": "M0jnz1vM6SMx",
        "outputId": "bd2058a2-72a6-4236-e086-8a4585c35001"
      },
      "execution_count": 101,
      "outputs": [
        {
          "output_type": "execute_result",
          "data": {
            "text/plain": [
              "(983, 983)"
            ]
          },
          "metadata": {},
          "execution_count": 101
        }
      ]
    },
    {
      "cell_type": "code",
      "source": [
        "# removing those tickers which has not enough data to calculate cointegration\n",
        "symbol_for_remove = []\n",
        "for symbol in tickers:\n",
        "  if len(df_bars.loc[symbol]) < 200:\n",
        "      symbol_for_remove.append(symbol)\n",
        "df_bars_cleared = df_bars.drop(symbol_for_remove, axis=0)"
      ],
      "metadata": {
        "colab": {
          "base_uri": "https://localhost:8080/"
        },
        "id": "Wu3Hrq0UgDMb",
        "outputId": "7fe3bf54-05d9-4810-f584-039d3f816cf5"
      },
      "execution_count": 99,
      "outputs": [
        {
          "output_type": "stream",
          "name": "stderr",
          "text": [
            "/usr/local/lib/python3.8/dist-packages/pandas/core/generic.py:4150: PerformanceWarning: dropping on a non-lexsorted multi-index without a level parameter may impact performance.\n",
            "  obj = obj._drop_axis(labels, axis, level=level, errors=errors)\n"
          ]
        }
      ]
    },
    {
      "cell_type": "code",
      "source": [
        "print(f\"{len(tickers) - len(symbol_for_remove)} ticker removed\")"
      ],
      "metadata": {
        "colab": {
          "base_uri": "https://localhost:8080/"
        },
        "id": "t5xrc5L9JIUD",
        "outputId": "3cee2140-def1-4b1d-9cfe-490565bfbf07"
      },
      "execution_count": 105,
      "outputs": [
        {
          "output_type": "stream",
          "name": "stdout",
          "text": [
            "297 ticker removed\n"
          ]
        }
      ]
    },
    {
      "cell_type": "markdown",
      "source": [
        "#### Calculating cointegration"
      ],
      "metadata": {
        "id": "wwEYeQqKMRzS"
      }
    },
    {
      "cell_type": "code",
      "source": [],
      "metadata": {
        "id": "sCLWjC_RMY-t"
      },
      "execution_count": null,
      "outputs": []
    }
  ]
}