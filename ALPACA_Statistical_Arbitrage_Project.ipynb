{
  "cells": [
    {
      "cell_type": "markdown",
      "metadata": {
        "id": "view-in-github",
        "colab_type": "text"
      },
      "source": [
        "<a href=\"https://colab.research.google.com/github/benchov/AlgoTrading/blob/master/ALPACA_Statistical_Arbitrage_Project.ipynb\" target=\"_parent\"><img src=\"https://colab.research.google.com/assets/colab-badge.svg\" alt=\"Open In Colab\"/></a>"
      ]
    },
    {
      "cell_type": "markdown",
      "source": [
        "### PROJECT START"
      ],
      "metadata": {
        "id": "S-UuDNxIHKwj"
      }
    },
    {
      "cell_type": "markdown",
      "source": [
        "#### Ideas and notes"
      ],
      "metadata": {
        "id": "MH_2ULj5G_go"
      }
    },
    {
      "cell_type": "markdown",
      "source": [
        "\n",
        "*Next Step*\n",
        "\n",
        "1.   When a trade is open is would be great if the system collect the tickers of the opened positions and provide the cointegration candelstick chart with indicators, entry point line and stop loss line. The chart should be rely on the real time market data.\n",
        "\n",
        "\n",
        "EXECUTION SESSION\n",
        "\n",
        "\n",
        "\n",
        "1.   Configuration input variables\n",
        "2.   Get real time market data\n",
        "\n",
        "3.   Calculating entry point, stoploss and position size\n",
        "4.   Get the actual opened position, show \n",
        "\n",
        "\n",
        "\n",
        "\n"
      ],
      "metadata": {
        "id": "F7PWefnnALaQ"
      }
    },
    {
      "cell_type": "markdown",
      "source": [
        "#### package installation"
      ],
      "metadata": {
        "id": "xKd2e4IcG0LA"
      }
    },
    {
      "cell_type": "code",
      "execution_count": 38,
      "metadata": {
        "colab": {
          "base_uri": "https://localhost:8080/"
        },
        "id": "etooASeX5EwL",
        "outputId": "7d0e5dfd-fa10-45e0-e3d6-b2e54e8ea9c4"
      },
      "outputs": [
        {
          "output_type": "stream",
          "name": "stdout",
          "text": [
            "Looking in indexes: https://pypi.org/simple, https://us-python.pkg.dev/colab-wheels/public/simple/\n",
            "Requirement already satisfied: alpaca-py in /usr/local/lib/python3.8/dist-packages (0.7.1)\n",
            "Requirement already satisfied: websockets<11.0,>=10.2 in /usr/local/lib/python3.8/dist-packages (from alpaca-py) (10.4)\n",
            "Requirement already satisfied: pydantic<2.0.0,>=1.9.0 in /usr/local/lib/python3.8/dist-packages (from alpaca-py) (1.10.5)\n",
            "Requirement already satisfied: msgpack<2.0.0,>=1.0.3 in /usr/local/lib/python3.8/dist-packages (from alpaca-py) (1.0.4)\n",
            "Requirement already satisfied: requests<3.0.0,>=2.27.1 in /usr/local/lib/python3.8/dist-packages (from alpaca-py) (2.28.2)\n",
            "Requirement already satisfied: pandas<2.0.0,>=1.3.5 in /usr/local/lib/python3.8/dist-packages (from alpaca-py) (1.3.5)\n",
            "Requirement already satisfied: sseclient-py<2.0.0,>=1.7.2 in /usr/local/lib/python3.8/dist-packages (from alpaca-py) (1.7.2)\n",
            "Requirement already satisfied: numpy>=1.17.3 in /usr/local/lib/python3.8/dist-packages (from pandas<2.0.0,>=1.3.5->alpaca-py) (1.22.4)\n",
            "Requirement already satisfied: pytz>=2017.3 in /usr/local/lib/python3.8/dist-packages (from pandas<2.0.0,>=1.3.5->alpaca-py) (2022.7.1)\n",
            "Requirement already satisfied: python-dateutil>=2.7.3 in /usr/local/lib/python3.8/dist-packages (from pandas<2.0.0,>=1.3.5->alpaca-py) (2.8.2)\n",
            "Requirement already satisfied: typing-extensions>=4.2.0 in /usr/local/lib/python3.8/dist-packages (from pydantic<2.0.0,>=1.9.0->alpaca-py) (4.5.0)\n",
            "Requirement already satisfied: certifi>=2017.4.17 in /usr/local/lib/python3.8/dist-packages (from requests<3.0.0,>=2.27.1->alpaca-py) (2022.12.7)\n",
            "Requirement already satisfied: charset-normalizer<4,>=2 in /usr/local/lib/python3.8/dist-packages (from requests<3.0.0,>=2.27.1->alpaca-py) (3.0.1)\n",
            "Requirement already satisfied: idna<4,>=2.5 in /usr/local/lib/python3.8/dist-packages (from requests<3.0.0,>=2.27.1->alpaca-py) (2.10)\n",
            "Requirement already satisfied: urllib3<1.27,>=1.21.1 in /usr/local/lib/python3.8/dist-packages (from requests<3.0.0,>=2.27.1->alpaca-py) (1.26.14)\n",
            "Requirement already satisfied: six>=1.5 in /usr/local/lib/python3.8/dist-packages (from python-dateutil>=2.7.3->pandas<2.0.0,>=1.3.5->alpaca-py) (1.15.0)\n"
          ]
        }
      ],
      "source": [
        "!pip install alpaca-py"
      ]
    },
    {
      "cell_type": "markdown",
      "source": [
        "#### imports"
      ],
      "metadata": {
        "id": "CUZqabz5IRfB"
      }
    },
    {
      "cell_type": "code",
      "execution_count": 39,
      "metadata": {
        "id": "169kWETG5Jlt"
      },
      "outputs": [],
      "source": [
        "# imports\n",
        "from alpaca.trading.client import TradingClient\n",
        "from alpaca.trading.requests import GetAssetsRequest\n",
        "from alpaca.trading.enums import AssetClass, AssetStatus\n",
        "from alpaca.data.historical import StockHistoricalDataClient\n",
        "from alpaca.data.requests import StockBarsRequest\n",
        "from alpaca.data.timeframe import TimeFrame\n",
        "from datetime import datetime\n",
        "from statsmodels.tsa.stattools import coint\n",
        "import statsmodels.api as sm\n",
        "import numpy as np\n",
        "import pandas as pd\n",
        "import matplotlib.pyplot as plt"
      ]
    },
    {
      "cell_type": "markdown",
      "source": [
        "#### global variables"
      ],
      "metadata": {
        "id": "ZIzqpb53IfUS"
      }
    },
    {
      "cell_type": "code",
      "source": [
        "# global variables\n",
        "time_interval = 200\n",
        "zscore_window = 21"
      ],
      "metadata": {
        "id": "mkvu3ulBU2FK"
      },
      "execution_count": 40,
      "outputs": []
    },
    {
      "cell_type": "markdown",
      "source": [
        "#### keys and secrets"
      ],
      "metadata": {
        "id": "MwlPVNY1IkLX"
      }
    },
    {
      "cell_type": "code",
      "execution_count": 41,
      "metadata": {
        "id": "Y7M98fkL5pS6"
      },
      "outputs": [],
      "source": [
        "# API keys for Alpaca\n",
        "API_KEY = 'PKJAMRGMC0EMO7LCX999'\n",
        "SECRET_KEY = 'gRhoCnuCZ7qpzQkH1NRSMVQZXNGyNcurvrexeJEp'"
      ]
    },
    {
      "cell_type": "code",
      "execution_count": 42,
      "metadata": {
        "id": "P-fItoP66sre"
      },
      "outputs": [],
      "source": [
        "# creating an instance of client\n",
        "trading_client = TradingClient(API_KEY, SECRET_KEY, paper=True)"
      ]
    },
    {
      "cell_type": "code",
      "execution_count": 43,
      "metadata": {
        "colab": {
          "base_uri": "https://localhost:8080/"
        },
        "id": "Kb8y7k5I678U",
        "outputId": "2356b3e4-46f6-46cf-f9ec-c07ae8b206ba"
      },
      "outputs": [
        {
          "output_type": "stream",
          "name": "stdout",
          "text": [
            "id=UUID('d38ec6c2-a23b-4708-a064-cda26744e218') account_number='PA3OJP423MLE' status=<AccountStatus.ACTIVE: 'ACTIVE'> crypto_status=<AccountStatus.ACTIVE: 'ACTIVE'> currency='USD' buying_power='191435.13' regt_buying_power='191435.13' daytrading_buying_power='0' non_marginable_buying_power='95707.69' cash='99782.69' accrued_fees='0' pending_transfer_out=None pending_transfer_in='0' portfolio_value='99802.44' pattern_day_trader=False trading_blocked=False transfers_blocked=False account_blocked=False created_at=datetime.datetime(2022, 12, 22, 19, 56, 32, 73526, tzinfo=datetime.timezone.utc) trade_suspended_by_user=False multiplier='2' shorting_enabled=True equity='99802.44' last_equity='99767.49' long_market_value='4094.75' short_market_value='-4075' initial_margin='4084.875' maintenance_margin='3834.125' last_maintenance_margin='3847.64' sma='99817.19' daytrade_count=0\n"
          ]
        }
      ],
      "source": [
        "# test the availability of the api by account information\n",
        "account = trading_client.get_account()\n",
        "print(account)"
      ]
    },
    {
      "cell_type": "code",
      "execution_count": 44,
      "metadata": {
        "colab": {
          "base_uri": "https://localhost:8080/"
        },
        "id": "4G_gPFr7LIK0",
        "outputId": "96d2284c-e46b-419d-b56d-77547fbad703"
      },
      "outputs": [
        {
          "output_type": "execute_result",
          "data": {
            "text/plain": [
              "(['PAG', 'PAGP', 'STX', 'FCPT', 'LKNCY'], 3834)"
            ]
          },
          "metadata": {},
          "execution_count": 44
        }
      ],
      "source": [
        "# get the available US equity stocks\n",
        "search_params = GetAssetsRequest(asset_class=AssetClass.US_EQUITY, status=AssetStatus.ACTIVE)\n",
        "assets = trading_client.get_all_assets(search_params)\n",
        "asset_list = []\n",
        "for i in assets:\n",
        "  if i.shortable == True and i.tradable == True and i.fractionable == True:\n",
        "    asset_list.append(i.symbol)\n",
        "asset_list[:5],len(asset_list)"
      ]
    },
    {
      "cell_type": "code",
      "execution_count": 45,
      "metadata": {
        "colab": {
          "base_uri": "https://localhost:8080/"
        },
        "id": "BAuDKTjLRBVV",
        "outputId": "fcd75b60-e4aa-4fc2-bed8-19506999d161"
      },
      "outputs": [
        {
          "output_type": "execute_result",
          "data": {
            "text/plain": [
              "{   'asset_class': <AssetClass.US_EQUITY: 'us_equity'>,\n",
              "    'easy_to_borrow': False,\n",
              "    'exchange': <AssetExchange.OTC: 'OTC'>,\n",
              "    'fractionable': False,\n",
              "    'id': UUID('7f00ea42-82b4-40b8-bc7f-feef41bbf355'),\n",
              "    'maintenance_margin_requirement': 100.0,\n",
              "    'marginable': False,\n",
              "    'min_order_size': None,\n",
              "    'min_trade_increment': None,\n",
              "    'name': 'EQONEX LTD Ordinary Shares',\n",
              "    'price_increment': None,\n",
              "    'shortable': False,\n",
              "    'status': <AssetStatus.ACTIVE: 'active'>,\n",
              "    'symbol': 'EQOSQ',\n",
              "    'tradable': False}"
            ]
          },
          "metadata": {},
          "execution_count": 45
        }
      ],
      "source": [
        "assets[0]"
      ]
    },
    {
      "cell_type": "markdown",
      "source": [
        "### GET DATA READY"
      ],
      "metadata": {
        "id": "rP0tdS0BHw8I"
      }
    },
    {
      "cell_type": "code",
      "execution_count": 46,
      "metadata": {
        "id": "NR4NrXzeLRrM"
      },
      "outputs": [],
      "source": [
        "# Get data from ALPACA server\n",
        "symbol_client = StockHistoricalDataClient(API_KEY, SECRET_KEY)\n",
        "multi_symbol_params = StockBarsRequest(symbol_or_symbols=asset_list[:1000], \n",
        "                                        timeframe=TimeFrame.Hour,\n",
        "                                        start=\"2023-01-01 00:00:00\"\n",
        "                                        )\n",
        " \n",
        "bars = symbol_client.get_stock_bars(multi_symbol_params)\n",
        "\n",
        "# turn data into DataFrame\n",
        "df_bars = bars.df"
      ]
    },
    {
      "cell_type": "code",
      "execution_count": 47,
      "metadata": {
        "id": "jvEJskxeFR_7"
      },
      "outputs": [],
      "source": [
        "# DURING THE DEVELOPMENT PHASE REDUCING THE NUMBER OF STOCKS\n",
        "# df_bars = df_bars.sample(frac=0.1)"
      ]
    },
    {
      "cell_type": "code",
      "execution_count": 48,
      "metadata": {
        "id": "M0jnz1vM6SMx"
      },
      "outputs": [],
      "source": [
        "tickers = df_bars.index.get_level_values(0).unique()"
      ]
    },
    {
      "cell_type": "code",
      "execution_count": 49,
      "metadata": {
        "colab": {
          "base_uri": "https://localhost:8080/"
        },
        "id": "Wu3Hrq0UgDMb",
        "outputId": "1ee5e60e-4f91-4bb3-f7ff-6e8dfb80a97a"
      },
      "outputs": [
        {
          "output_type": "stream",
          "name": "stderr",
          "text": [
            "/usr/local/lib/python3.8/dist-packages/pandas/core/generic.py:4150: PerformanceWarning: dropping on a non-lexsorted multi-index without a level parameter may impact performance.\n",
            "  obj = obj._drop_axis(labels, axis, level=level, errors=errors)\n"
          ]
        }
      ],
      "source": [
        "# removing those tickers which has not enough data to calculate cointegration\n",
        "symbol_for_remove = []\n",
        "for symbol in tickers:\n",
        "  if len(df_bars.loc[symbol]) < 200:\n",
        "      symbol_for_remove.append(symbol)\n",
        "df_bars_cleared = df_bars.drop(symbol_for_remove, axis=0)"
      ]
    },
    {
      "cell_type": "code",
      "execution_count": 50,
      "metadata": {
        "colab": {
          "base_uri": "https://localhost:8080/"
        },
        "id": "t5xrc5L9JIUD",
        "outputId": "7e2c2c19-ecff-49f2-950c-7e148aec3524"
      },
      "outputs": [
        {
          "output_type": "stream",
          "name": "stdout",
          "text": [
            "962 ticker removed\n"
          ]
        }
      ],
      "source": [
        "print(f\"{len(tickers) - len(symbol_for_remove)} ticker removed\")"
      ]
    },
    {
      "cell_type": "code",
      "execution_count": 51,
      "metadata": {
        "colab": {
          "base_uri": "https://localhost:8080/"
        },
        "id": "trOhopdjNvxb",
        "outputId": "532285b2-24ed-4ead-f87b-1b9c3ead4d13"
      },
      "outputs": [
        {
          "output_type": "execute_result",
          "data": {
            "text/plain": [
              "{   'asset_class': <AssetClass.US_EQUITY: 'us_equity'>,\n",
              "    'easy_to_borrow': True,\n",
              "    'exchange': <AssetExchange.NASDAQ: 'NASDAQ'>,\n",
              "    'fractionable': True,\n",
              "    'id': UUID('2652df43-e5bd-4504-80f2-4d4d672090bd'),\n",
              "    'maintenance_margin_requirement': 30.0,\n",
              "    'marginable': True,\n",
              "    'min_order_size': None,\n",
              "    'min_trade_increment': None,\n",
              "    'name': 'AbCellera Biologics Inc. Common Shares',\n",
              "    'price_increment': None,\n",
              "    'shortable': True,\n",
              "    'status': <AssetStatus.ACTIVE: 'active'>,\n",
              "    'symbol': 'ABCL',\n",
              "    'tradable': True}"
            ]
          },
          "metadata": {},
          "execution_count": 51
        }
      ],
      "source": [
        "# create new updated ticker list\n",
        "tickers_cleared = df_bars.index.get_level_values(0).unique()\n",
        "\n",
        "# check filtered asset to shortable, tradable and fractianable\n",
        "test_asset = trading_client.get_asset(tickers_cleared[10])\n",
        "test_asset"
      ]
    },
    {
      "cell_type": "code",
      "source": [
        "tickers_cleared"
      ],
      "metadata": {
        "colab": {
          "base_uri": "https://localhost:8080/"
        },
        "id": "7gof1q9bdp1s",
        "outputId": "ea966a3f-1072-49cd-f959-5fbe0e91cc9f"
      },
      "execution_count": 52,
      "outputs": [
        {
          "output_type": "execute_result",
          "data": {
            "text/plain": [
              "Index(['AAAU', 'AADI', 'AAC', 'AAIC', 'AAL', 'AAWW', 'AAT', 'AAPL', 'AA',\n",
              "       'AAXJ',\n",
              "       ...\n",
              "       'YPF', 'ZEUS', 'ZETA', 'ZBH', 'ZIP', 'ZION', 'ZG', 'ZM', 'ZLAB', 'Z'],\n",
              "      dtype='object', name='symbol', length=975)"
            ]
          },
          "metadata": {},
          "execution_count": 52
        }
      ]
    },
    {
      "cell_type": "code",
      "execution_count": 53,
      "metadata": {
        "colab": {
          "base_uri": "https://localhost:8080/"
        },
        "id": "NUH3l1FRGTub",
        "outputId": "fc8cdd4b-431d-4de6-d71c-6b95b71a2d80"
      },
      "outputs": [
        {
          "output_type": "execute_result",
          "data": {
            "text/plain": [
              "(975, 352794)"
            ]
          },
          "metadata": {},
          "execution_count": 53
        }
      ],
      "source": [
        "len(tickers_cleared), len(df_bars_cleared)"
      ]
    },
    {
      "cell_type": "markdown",
      "source": [
        "#### !TASK: create a session report\n",
        "\n",
        "This place where all #logs# would be inside one well organised report, not print after every cell."
      ],
      "metadata": {
        "id": "XymnVKFSIzDO"
      }
    },
    {
      "cell_type": "markdown",
      "source": [
        "### CALCULATING COINTEGRATION"
      ],
      "metadata": {
        "id": "rhCF6i0tH-n0"
      }
    },
    {
      "cell_type": "markdown",
      "source": [
        "##### handlers functions"
      ],
      "metadata": {
        "id": "SwykCGVVGJkS"
      }
    },
    {
      "cell_type": "code",
      "execution_count": 54,
      "metadata": {
        "id": "UBnuF-J0HCmj"
      },
      "outputs": [],
      "source": [
        "def calculate_zscore (spread):\n",
        "  df = pd.DataFrame(spread)\n",
        "  mean = df.rolling(center=False, window=zscore_window).mean()\n",
        "  std = df.rolling(center=False, window=zscore_window).std()\n",
        "  x = df.rolling(center=False, window=1).mean()\n",
        "  result = (x - mean) / std\n",
        "  return result.astype(float)\n",
        "\n",
        "def calculate_spread (series_1, series_2, hedge_ratio):\n",
        "  '''\n",
        "    series_1: Series which contains first assets close prices,\n",
        "    series_2: Series which contains second assets close prices,\n",
        "    hedge_ratio = It comes from the calculated cointegration dataframe\n",
        "\n",
        "    returns: float\n",
        "  '''\n",
        "  spread = pd.Series(series_1) - (pd.Series(series_2) * hedge_ratio)\n",
        "  return spread.astype(float)\n",
        "\n",
        "def calculate_cointegration (series_1, series_2):\n",
        "  coint_flag = 0\n",
        "  coint_result = coint(series_1, series_2)\n",
        "  coint_t = coint_result[0]\n",
        "  p_value = coint_result[1]\n",
        "  critical_value = coint_result[2][1]\n",
        "  model = sm.OLS(series_1, series_2).fit()\n",
        "  hedge_ratio = model.params[0]\n",
        "  spread = calculate_spread(series_1, series_2, hedge_ratio)\n",
        "  zero_crossings = len(np.where(np.diff(np.sign(spread)))[0])\n",
        "  traded = 0\n",
        "\n",
        "  if p_value < 0.5 and coint_t < critical_value:\n",
        "    coint_flag = 1\n",
        "  return (\n",
        "      coint_flag, \n",
        "      round(p_value, 2),\n",
        "      round(coint_t, 2), \n",
        "      round(critical_value, 2), \n",
        "      round(hedge_ratio, 2), \n",
        "      zero_crossings,\n",
        "      traded)\n",
        "\n",
        "def get_close_price(prices):\n",
        "  # create a series with close prices but put the timestamp into it\n",
        "  close_prices = list(prices.loc[:, 'close'])\n",
        "  return close_prices\n",
        "\n",
        "def get_cointegrated_pairs (data, ticker ):\n",
        "  print('calculating cointegration....')\n",
        "  # loop thorugh coins and check cointegration\n",
        "  coint_pair_list = []\n",
        "  included_list = []\n",
        "\n",
        "  for sym_1 in ticker:\n",
        "  #   # check each coin against the first  (sym_1) symbol\n",
        "      for sym_2 in ticker:\n",
        "        if sym_2 != sym_1: \n",
        "\n",
        "          # get unique asset combination if and ensure it is not duplicated\n",
        "          sorted_asset_names = sorted(sym_1 + sym_2)\n",
        "          unique = \"\".join(sorted_asset_names)\n",
        "          if unique in included_list:\n",
        "            break\n",
        "\n",
        "          # Get close prices \n",
        "          series_1 = get_close_price(data.loc[sym_1])\n",
        "          series_2 = get_close_price(data.loc[sym_2])\n",
        "\n",
        "\n",
        "          # check cointegration and add result\n",
        "          if len(series_1) > 200 and len(series_2) > 200:\n",
        "            coint_flag, p_value, t_value, c_value, hedge_ratio, zero_crossing, traded = calculate_cointegration(series_1[:200], series_2[:200])\n",
        "\n",
        "          if coint_flag == 1:\n",
        "            included_list.append(unique)\n",
        "            coint_pair_list.append({\n",
        "                \"sym_1\": sym_1,\n",
        "                \"sym_2\": sym_2,\n",
        "                \"coint_flag\": coint_flag,\n",
        "                \"p_value\": p_value,\n",
        "                \"t_value\": t_value,\n",
        "                \"c_value\": c_value,\n",
        "                \"hedge_ratio\": hedge_ratio,\n",
        "                \"zero_crossing\": zero_crossing,\n",
        "                \"traded\": traded\n",
        "              })\n",
        "\n",
        "  # save output\n",
        "  df_coint = pd.DataFrame(coint_pair_list)\n",
        "  df_coint = df_coint.sort_values(\"zero_crossing\", ascending=False)\n",
        "  df_coint.to_csv(\"cointegrated_pairs.csv\")\n",
        "  print('cointegrated asset list saved!')\n",
        "  \n",
        "  # TODO: Doesn’t necessary return the created dataframe\n",
        "  return df_coint\n",
        "     \n",
        "\n",
        "def get_report_data(symbols, data, hedge_ratio):\n",
        "  '''\n",
        "     creating dataframe which contains price data, spread, zscore and percantage changes\n",
        "  '''\n",
        "  df_result = pd.DataFrame()\n",
        "\n",
        "  # extract prices\n",
        "  close_1 = get_close_price(data.loc[symbols[0]])[:time_interval]\n",
        "  close_2 = get_close_price(data.loc[symbols[1]])[:time_interval]\n",
        "  df_result[f'{symbols[0]}'] = close_1\n",
        "  df_result[f'{symbols[1]}'] = close_2\n",
        "  # calculate spread, zscore, \n",
        "  spread = calculate_spread(close_1, close_2, hedge_ratio)\n",
        "  zscore = calculate_zscore(spread)\n",
        "  df_result['spread'] = spread\n",
        "  df_result['zscore'] = zscore\n",
        "\n",
        "  # calculate percentage changes\n",
        "  df_result[f'{symbols[0]}_pct_changes'] = df_result[symbols[0]] / close_1[0]\n",
        "  df_result[f'{symbols[1]}_pct_changes'] = df_result[symbols[1]] / close_2[0]  \n",
        " \n",
        "\n",
        "  return df_result\n",
        "\n",
        "def plot_result (coint_data, data, target_element=False):\n",
        "    target_symbols = [coint_data.iloc[target_element]['sym_1'], coint_data.iloc[target_element]['sym_2']]\n",
        "    hedge_ratio = coint_data.iloc[target_element][\"hedge_ratio\"]\n",
        "    report_data = get_report_data(target_symbols, data, hedge_ratio)\n",
        "    \n",
        "\n",
        "    # plot charts\n",
        "    asset_pct_1 = report_data[f'{target_symbols[0]}_pct_changes']\n",
        "    asset_pct_2 = report_data[f'{target_symbols[1]}_pct_changes']\n",
        "\n",
        "    fig, axs  = plt.subplots(3, figsize=(20,9), constrained_layout=True)\n",
        "    fig.suptitle(f\"{target_symbols[0]} and {target_symbols[1]} chart\")\n",
        "    axs[0].set_title('Price movent')\n",
        "    axs[0].plot(asset_pct_1)\n",
        "    axs[0].plot(asset_pct_2)\n",
        "    axs[0].legend([target_symbols[0], target_symbols[1]])\n",
        "    axs[1].set_title('spread')\n",
        "    axs[1].plot(report_data['spread'])\n",
        "    axs[2].set_title('zscore')\n",
        "    axs[2].plot(report_data['zscore'])\n",
        "    plt.show\n",
        "\n",
        "# creating pair report\n",
        "def show_pair_report (coint_data, data , n_elements=False, target_element = False):\n",
        "  '''\n",
        "    This function should be able to:\n",
        "      - represent n_elements from the cointegrated dataframe\n",
        "      - show a plot from the two cointegrated pairs\n",
        "      - z_score\n",
        "      - spread\n",
        "      - (later) show the HiddenMarkow trend analysis\n",
        "      - optimal entry point\n",
        "      - optimal exit point\n",
        "  '''\n",
        "\n",
        "  if target_element:\n",
        "    print('show single specific element')\n",
        "    plot_result(coint_data, data, target_element)\n",
        "\n",
        "  if n_elements:\n",
        "    print('show n elements in cycle')\n",
        "    for index, value in coint_data[:n_elements].iterrows():\n",
        "        plot_result(coint_data, data, index)\n"
      ]
    },
    {
      "cell_type": "code",
      "source": [
        "print(tickers_cleared)"
      ],
      "metadata": {
        "colab": {
          "base_uri": "https://localhost:8080/"
        },
        "id": "VE1pHTYP6Knv",
        "outputId": "0420885c-b5ab-4585-be81-b6b454161767"
      },
      "execution_count": 55,
      "outputs": [
        {
          "output_type": "stream",
          "name": "stdout",
          "text": [
            "Index(['AAAU', 'AADI', 'AAC', 'AAIC', 'AAL', 'AAWW', 'AAT', 'AAPL', 'AA',\n",
            "       'AAXJ',\n",
            "       ...\n",
            "       'YPF', 'ZEUS', 'ZETA', 'ZBH', 'ZIP', 'ZION', 'ZG', 'ZM', 'ZLAB', 'Z'],\n",
            "      dtype='object', name='symbol', length=975)\n"
          ]
        }
      ]
    },
    {
      "cell_type": "code",
      "execution_count": 56,
      "metadata": {
        "colab": {
          "base_uri": "https://localhost:8080/",
          "height": 459
        },
        "id": "sCLWjC_RMY-t",
        "outputId": "e728bbc8-ac2f-4698-841b-325442bdb8ab"
      },
      "outputs": [
        {
          "output_type": "stream",
          "name": "stdout",
          "text": [
            "calculating cointegration....\n",
            "cointegrated asset list saved!\n"
          ]
        },
        {
          "output_type": "execute_result",
          "data": {
            "text/plain": [
              "    sym_1 sym_2  coint_flag  p_value  t_value  c_value  hedge_ratio  \\\n",
              "235  APPS  APPF           1     0.03    -3.50    -3.37         0.14   \n",
              "11   AADI  ACHC           1     0.00    -4.32    -3.37         0.15   \n",
              "117  AMSF  ALIT           1     0.03    -3.52    -3.37         5.89   \n",
              "199   APA  AGYS           1     0.01    -4.05    -3.37         0.55   \n",
              "210   APH    AB           1     0.00    -4.64    -3.37         2.10   \n",
              "..    ...   ...         ...      ...      ...      ...          ...   \n",
              "245  AQUA   AIZ           1     0.03    -3.56    -3.37         0.34   \n",
              "105  AMSC  AAWW           1     0.01    -3.80    -3.37         0.05   \n",
              "198   APA   AGS           1     0.01    -3.86    -3.37         7.67   \n",
              "4    AAAU  ABBV           1     0.01    -4.09    -3.37         0.12   \n",
              "221   API   AGS           1     0.03    -3.56    -3.37         0.74   \n",
              "\n",
              "     zero_crossing  traded  \n",
              "235             43       0  \n",
              "11              36       0  \n",
              "117             35       0  \n",
              "199             35       0  \n",
              "210             35       0  \n",
              "..             ...     ...  \n",
              "245              1       0  \n",
              "105              1       0  \n",
              "198              1       0  \n",
              "4                1       0  \n",
              "221              1       0  \n",
              "\n",
              "[252 rows x 9 columns]"
            ],
            "text/html": [
              "\n",
              "  <div id=\"df-9d0e13c9-5d18-4943-aa77-4b67d8e78706\">\n",
              "    <div class=\"colab-df-container\">\n",
              "      <div>\n",
              "<style scoped>\n",
              "    .dataframe tbody tr th:only-of-type {\n",
              "        vertical-align: middle;\n",
              "    }\n",
              "\n",
              "    .dataframe tbody tr th {\n",
              "        vertical-align: top;\n",
              "    }\n",
              "\n",
              "    .dataframe thead th {\n",
              "        text-align: right;\n",
              "    }\n",
              "</style>\n",
              "<table border=\"1\" class=\"dataframe\">\n",
              "  <thead>\n",
              "    <tr style=\"text-align: right;\">\n",
              "      <th></th>\n",
              "      <th>sym_1</th>\n",
              "      <th>sym_2</th>\n",
              "      <th>coint_flag</th>\n",
              "      <th>p_value</th>\n",
              "      <th>t_value</th>\n",
              "      <th>c_value</th>\n",
              "      <th>hedge_ratio</th>\n",
              "      <th>zero_crossing</th>\n",
              "      <th>traded</th>\n",
              "    </tr>\n",
              "  </thead>\n",
              "  <tbody>\n",
              "    <tr>\n",
              "      <th>235</th>\n",
              "      <td>APPS</td>\n",
              "      <td>APPF</td>\n",
              "      <td>1</td>\n",
              "      <td>0.03</td>\n",
              "      <td>-3.50</td>\n",
              "      <td>-3.37</td>\n",
              "      <td>0.14</td>\n",
              "      <td>43</td>\n",
              "      <td>0</td>\n",
              "    </tr>\n",
              "    <tr>\n",
              "      <th>11</th>\n",
              "      <td>AADI</td>\n",
              "      <td>ACHC</td>\n",
              "      <td>1</td>\n",
              "      <td>0.00</td>\n",
              "      <td>-4.32</td>\n",
              "      <td>-3.37</td>\n",
              "      <td>0.15</td>\n",
              "      <td>36</td>\n",
              "      <td>0</td>\n",
              "    </tr>\n",
              "    <tr>\n",
              "      <th>117</th>\n",
              "      <td>AMSF</td>\n",
              "      <td>ALIT</td>\n",
              "      <td>1</td>\n",
              "      <td>0.03</td>\n",
              "      <td>-3.52</td>\n",
              "      <td>-3.37</td>\n",
              "      <td>5.89</td>\n",
              "      <td>35</td>\n",
              "      <td>0</td>\n",
              "    </tr>\n",
              "    <tr>\n",
              "      <th>199</th>\n",
              "      <td>APA</td>\n",
              "      <td>AGYS</td>\n",
              "      <td>1</td>\n",
              "      <td>0.01</td>\n",
              "      <td>-4.05</td>\n",
              "      <td>-3.37</td>\n",
              "      <td>0.55</td>\n",
              "      <td>35</td>\n",
              "      <td>0</td>\n",
              "    </tr>\n",
              "    <tr>\n",
              "      <th>210</th>\n",
              "      <td>APH</td>\n",
              "      <td>AB</td>\n",
              "      <td>1</td>\n",
              "      <td>0.00</td>\n",
              "      <td>-4.64</td>\n",
              "      <td>-3.37</td>\n",
              "      <td>2.10</td>\n",
              "      <td>35</td>\n",
              "      <td>0</td>\n",
              "    </tr>\n",
              "    <tr>\n",
              "      <th>...</th>\n",
              "      <td>...</td>\n",
              "      <td>...</td>\n",
              "      <td>...</td>\n",
              "      <td>...</td>\n",
              "      <td>...</td>\n",
              "      <td>...</td>\n",
              "      <td>...</td>\n",
              "      <td>...</td>\n",
              "      <td>...</td>\n",
              "    </tr>\n",
              "    <tr>\n",
              "      <th>245</th>\n",
              "      <td>AQUA</td>\n",
              "      <td>AIZ</td>\n",
              "      <td>1</td>\n",
              "      <td>0.03</td>\n",
              "      <td>-3.56</td>\n",
              "      <td>-3.37</td>\n",
              "      <td>0.34</td>\n",
              "      <td>1</td>\n",
              "      <td>0</td>\n",
              "    </tr>\n",
              "    <tr>\n",
              "      <th>105</th>\n",
              "      <td>AMSC</td>\n",
              "      <td>AAWW</td>\n",
              "      <td>1</td>\n",
              "      <td>0.01</td>\n",
              "      <td>-3.80</td>\n",
              "      <td>-3.37</td>\n",
              "      <td>0.05</td>\n",
              "      <td>1</td>\n",
              "      <td>0</td>\n",
              "    </tr>\n",
              "    <tr>\n",
              "      <th>198</th>\n",
              "      <td>APA</td>\n",
              "      <td>AGS</td>\n",
              "      <td>1</td>\n",
              "      <td>0.01</td>\n",
              "      <td>-3.86</td>\n",
              "      <td>-3.37</td>\n",
              "      <td>7.67</td>\n",
              "      <td>1</td>\n",
              "      <td>0</td>\n",
              "    </tr>\n",
              "    <tr>\n",
              "      <th>4</th>\n",
              "      <td>AAAU</td>\n",
              "      <td>ABBV</td>\n",
              "      <td>1</td>\n",
              "      <td>0.01</td>\n",
              "      <td>-4.09</td>\n",
              "      <td>-3.37</td>\n",
              "      <td>0.12</td>\n",
              "      <td>1</td>\n",
              "      <td>0</td>\n",
              "    </tr>\n",
              "    <tr>\n",
              "      <th>221</th>\n",
              "      <td>API</td>\n",
              "      <td>AGS</td>\n",
              "      <td>1</td>\n",
              "      <td>0.03</td>\n",
              "      <td>-3.56</td>\n",
              "      <td>-3.37</td>\n",
              "      <td>0.74</td>\n",
              "      <td>1</td>\n",
              "      <td>0</td>\n",
              "    </tr>\n",
              "  </tbody>\n",
              "</table>\n",
              "<p>252 rows × 9 columns</p>\n",
              "</div>\n",
              "      <button class=\"colab-df-convert\" onclick=\"convertToInteractive('df-9d0e13c9-5d18-4943-aa77-4b67d8e78706')\"\n",
              "              title=\"Convert this dataframe to an interactive table.\"\n",
              "              style=\"display:none;\">\n",
              "        \n",
              "  <svg xmlns=\"http://www.w3.org/2000/svg\" height=\"24px\"viewBox=\"0 0 24 24\"\n",
              "       width=\"24px\">\n",
              "    <path d=\"M0 0h24v24H0V0z\" fill=\"none\"/>\n",
              "    <path d=\"M18.56 5.44l.94 2.06.94-2.06 2.06-.94-2.06-.94-.94-2.06-.94 2.06-2.06.94zm-11 1L8.5 8.5l.94-2.06 2.06-.94-2.06-.94L8.5 2.5l-.94 2.06-2.06.94zm10 10l.94 2.06.94-2.06 2.06-.94-2.06-.94-.94-2.06-.94 2.06-2.06.94z\"/><path d=\"M17.41 7.96l-1.37-1.37c-.4-.4-.92-.59-1.43-.59-.52 0-1.04.2-1.43.59L10.3 9.45l-7.72 7.72c-.78.78-.78 2.05 0 2.83L4 21.41c.39.39.9.59 1.41.59.51 0 1.02-.2 1.41-.59l7.78-7.78 2.81-2.81c.8-.78.8-2.07 0-2.86zM5.41 20L4 18.59l7.72-7.72 1.47 1.35L5.41 20z\"/>\n",
              "  </svg>\n",
              "      </button>\n",
              "      \n",
              "  <style>\n",
              "    .colab-df-container {\n",
              "      display:flex;\n",
              "      flex-wrap:wrap;\n",
              "      gap: 12px;\n",
              "    }\n",
              "\n",
              "    .colab-df-convert {\n",
              "      background-color: #E8F0FE;\n",
              "      border: none;\n",
              "      border-radius: 50%;\n",
              "      cursor: pointer;\n",
              "      display: none;\n",
              "      fill: #1967D2;\n",
              "      height: 32px;\n",
              "      padding: 0 0 0 0;\n",
              "      width: 32px;\n",
              "    }\n",
              "\n",
              "    .colab-df-convert:hover {\n",
              "      background-color: #E2EBFA;\n",
              "      box-shadow: 0px 1px 2px rgba(60, 64, 67, 0.3), 0px 1px 3px 1px rgba(60, 64, 67, 0.15);\n",
              "      fill: #174EA6;\n",
              "    }\n",
              "\n",
              "    [theme=dark] .colab-df-convert {\n",
              "      background-color: #3B4455;\n",
              "      fill: #D2E3FC;\n",
              "    }\n",
              "\n",
              "    [theme=dark] .colab-df-convert:hover {\n",
              "      background-color: #434B5C;\n",
              "      box-shadow: 0px 1px 3px 1px rgba(0, 0, 0, 0.15);\n",
              "      filter: drop-shadow(0px 1px 2px rgba(0, 0, 0, 0.3));\n",
              "      fill: #FFFFFF;\n",
              "    }\n",
              "  </style>\n",
              "\n",
              "      <script>\n",
              "        const buttonEl =\n",
              "          document.querySelector('#df-9d0e13c9-5d18-4943-aa77-4b67d8e78706 button.colab-df-convert');\n",
              "        buttonEl.style.display =\n",
              "          google.colab.kernel.accessAllowed ? 'block' : 'none';\n",
              "\n",
              "        async function convertToInteractive(key) {\n",
              "          const element = document.querySelector('#df-9d0e13c9-5d18-4943-aa77-4b67d8e78706');\n",
              "          const dataTable =\n",
              "            await google.colab.kernel.invokeFunction('convertToInteractive',\n",
              "                                                     [key], {});\n",
              "          if (!dataTable) return;\n",
              "\n",
              "          const docLinkHtml = 'Like what you see? Visit the ' +\n",
              "            '<a target=\"_blank\" href=https://colab.research.google.com/notebooks/data_table.ipynb>data table notebook</a>'\n",
              "            + ' to learn more about interactive tables.';\n",
              "          element.innerHTML = '';\n",
              "          dataTable['output_type'] = 'display_data';\n",
              "          await google.colab.output.renderOutput(dataTable, element);\n",
              "          const docLink = document.createElement('div');\n",
              "          docLink.innerHTML = docLinkHtml;\n",
              "          element.appendChild(docLink);\n",
              "        }\n",
              "      </script>\n",
              "    </div>\n",
              "  </div>\n",
              "  "
            ]
          },
          "metadata": {},
          "execution_count": 56
        }
      ],
      "source": [
        "get_cointegrated_pairs(df_bars, ticker=tickers_cleared[:100])"
      ]
    },
    {
      "cell_type": "code",
      "execution_count": 200,
      "metadata": {
        "id": "_ZlmXqsbDnR_",
        "colab": {
          "base_uri": "https://localhost:8080/"
        },
        "outputId": "79e0d9f9-0cc0-4a16-d730-f8afdbe53603"
      },
      "outputs": [
        {
          "output_type": "stream",
          "name": "stdout",
          "text": [
            "<class 'pandas.core.frame.DataFrame'>\n",
            "RangeIndex: 252 entries, 0 to 251\n",
            "Data columns (total 10 columns):\n",
            " #   Column         Non-Null Count  Dtype  \n",
            "---  ------         --------------  -----  \n",
            " 0   Unnamed: 0     252 non-null    int64  \n",
            " 1   sym_1          252 non-null    object \n",
            " 2   sym_2          252 non-null    object \n",
            " 3   coint_flag     252 non-null    int64  \n",
            " 4   p_value        252 non-null    float64\n",
            " 5   t_value        252 non-null    float64\n",
            " 6   c_value        252 non-null    float64\n",
            " 7   hedge_ratio    252 non-null    float64\n",
            " 8   zero_crossing  252 non-null    int64  \n",
            " 9   traded         252 non-null    int64  \n",
            "dtypes: float64(4), int64(4), object(2)\n",
            "memory usage: 19.8+ KB\n"
          ]
        }
      ],
      "source": [
        "df_cpairs = pd.read_csv(\"/content/cointegrated_pairs.csv\")\n",
        "df_cpairs.info() "
      ]
    },
    {
      "cell_type": "code",
      "source": [
        "df_cpairs"
      ],
      "metadata": {
        "colab": {
          "base_uri": "https://localhost:8080/",
          "height": 424
        },
        "id": "pFh7Qip0Vq7z",
        "outputId": "97e3dc0f-82ad-4c9e-ede4-75bcb0ce7d59"
      },
      "execution_count": 201,
      "outputs": [
        {
          "output_type": "execute_result",
          "data": {
            "text/plain": [
              "     Unnamed: 0 sym_1 sym_2  coint_flag  p_value  t_value  c_value  \\\n",
              "0           235  APPS  APPF           1     0.03    -3.50    -3.37   \n",
              "1            11  AADI  ACHC           1     0.00    -4.32    -3.37   \n",
              "2           117  AMSF  ALIT           1     0.03    -3.52    -3.37   \n",
              "3           199   APA  AGYS           1     0.01    -4.05    -3.37   \n",
              "4           210   APH    AB           1     0.00    -4.64    -3.37   \n",
              "..          ...   ...   ...         ...      ...      ...      ...   \n",
              "247         245  AQUA   AIZ           1     0.03    -3.56    -3.37   \n",
              "248         105  AMSC  AAWW           1     0.01    -3.80    -3.37   \n",
              "249         198   APA   AGS           1     0.01    -3.86    -3.37   \n",
              "250           4  AAAU  ABBV           1     0.01    -4.09    -3.37   \n",
              "251         221   API   AGS           1     0.03    -3.56    -3.37   \n",
              "\n",
              "     hedge_ratio  zero_crossing  traded  \n",
              "0           0.14             43       0  \n",
              "1           0.15             36       0  \n",
              "2           5.89             35       0  \n",
              "3           0.55             35       0  \n",
              "4           2.10             35       0  \n",
              "..           ...            ...     ...  \n",
              "247         0.34              1       0  \n",
              "248         0.05              1       0  \n",
              "249         7.67              1       0  \n",
              "250         0.12              1       0  \n",
              "251         0.74              1       0  \n",
              "\n",
              "[252 rows x 10 columns]"
            ],
            "text/html": [
              "\n",
              "  <div id=\"df-17c52344-8533-4f5f-970c-d3f6a5d3043b\">\n",
              "    <div class=\"colab-df-container\">\n",
              "      <div>\n",
              "<style scoped>\n",
              "    .dataframe tbody tr th:only-of-type {\n",
              "        vertical-align: middle;\n",
              "    }\n",
              "\n",
              "    .dataframe tbody tr th {\n",
              "        vertical-align: top;\n",
              "    }\n",
              "\n",
              "    .dataframe thead th {\n",
              "        text-align: right;\n",
              "    }\n",
              "</style>\n",
              "<table border=\"1\" class=\"dataframe\">\n",
              "  <thead>\n",
              "    <tr style=\"text-align: right;\">\n",
              "      <th></th>\n",
              "      <th>Unnamed: 0</th>\n",
              "      <th>sym_1</th>\n",
              "      <th>sym_2</th>\n",
              "      <th>coint_flag</th>\n",
              "      <th>p_value</th>\n",
              "      <th>t_value</th>\n",
              "      <th>c_value</th>\n",
              "      <th>hedge_ratio</th>\n",
              "      <th>zero_crossing</th>\n",
              "      <th>traded</th>\n",
              "    </tr>\n",
              "  </thead>\n",
              "  <tbody>\n",
              "    <tr>\n",
              "      <th>0</th>\n",
              "      <td>235</td>\n",
              "      <td>APPS</td>\n",
              "      <td>APPF</td>\n",
              "      <td>1</td>\n",
              "      <td>0.03</td>\n",
              "      <td>-3.50</td>\n",
              "      <td>-3.37</td>\n",
              "      <td>0.14</td>\n",
              "      <td>43</td>\n",
              "      <td>0</td>\n",
              "    </tr>\n",
              "    <tr>\n",
              "      <th>1</th>\n",
              "      <td>11</td>\n",
              "      <td>AADI</td>\n",
              "      <td>ACHC</td>\n",
              "      <td>1</td>\n",
              "      <td>0.00</td>\n",
              "      <td>-4.32</td>\n",
              "      <td>-3.37</td>\n",
              "      <td>0.15</td>\n",
              "      <td>36</td>\n",
              "      <td>0</td>\n",
              "    </tr>\n",
              "    <tr>\n",
              "      <th>2</th>\n",
              "      <td>117</td>\n",
              "      <td>AMSF</td>\n",
              "      <td>ALIT</td>\n",
              "      <td>1</td>\n",
              "      <td>0.03</td>\n",
              "      <td>-3.52</td>\n",
              "      <td>-3.37</td>\n",
              "      <td>5.89</td>\n",
              "      <td>35</td>\n",
              "      <td>0</td>\n",
              "    </tr>\n",
              "    <tr>\n",
              "      <th>3</th>\n",
              "      <td>199</td>\n",
              "      <td>APA</td>\n",
              "      <td>AGYS</td>\n",
              "      <td>1</td>\n",
              "      <td>0.01</td>\n",
              "      <td>-4.05</td>\n",
              "      <td>-3.37</td>\n",
              "      <td>0.55</td>\n",
              "      <td>35</td>\n",
              "      <td>0</td>\n",
              "    </tr>\n",
              "    <tr>\n",
              "      <th>4</th>\n",
              "      <td>210</td>\n",
              "      <td>APH</td>\n",
              "      <td>AB</td>\n",
              "      <td>1</td>\n",
              "      <td>0.00</td>\n",
              "      <td>-4.64</td>\n",
              "      <td>-3.37</td>\n",
              "      <td>2.10</td>\n",
              "      <td>35</td>\n",
              "      <td>0</td>\n",
              "    </tr>\n",
              "    <tr>\n",
              "      <th>...</th>\n",
              "      <td>...</td>\n",
              "      <td>...</td>\n",
              "      <td>...</td>\n",
              "      <td>...</td>\n",
              "      <td>...</td>\n",
              "      <td>...</td>\n",
              "      <td>...</td>\n",
              "      <td>...</td>\n",
              "      <td>...</td>\n",
              "      <td>...</td>\n",
              "    </tr>\n",
              "    <tr>\n",
              "      <th>247</th>\n",
              "      <td>245</td>\n",
              "      <td>AQUA</td>\n",
              "      <td>AIZ</td>\n",
              "      <td>1</td>\n",
              "      <td>0.03</td>\n",
              "      <td>-3.56</td>\n",
              "      <td>-3.37</td>\n",
              "      <td>0.34</td>\n",
              "      <td>1</td>\n",
              "      <td>0</td>\n",
              "    </tr>\n",
              "    <tr>\n",
              "      <th>248</th>\n",
              "      <td>105</td>\n",
              "      <td>AMSC</td>\n",
              "      <td>AAWW</td>\n",
              "      <td>1</td>\n",
              "      <td>0.01</td>\n",
              "      <td>-3.80</td>\n",
              "      <td>-3.37</td>\n",
              "      <td>0.05</td>\n",
              "      <td>1</td>\n",
              "      <td>0</td>\n",
              "    </tr>\n",
              "    <tr>\n",
              "      <th>249</th>\n",
              "      <td>198</td>\n",
              "      <td>APA</td>\n",
              "      <td>AGS</td>\n",
              "      <td>1</td>\n",
              "      <td>0.01</td>\n",
              "      <td>-3.86</td>\n",
              "      <td>-3.37</td>\n",
              "      <td>7.67</td>\n",
              "      <td>1</td>\n",
              "      <td>0</td>\n",
              "    </tr>\n",
              "    <tr>\n",
              "      <th>250</th>\n",
              "      <td>4</td>\n",
              "      <td>AAAU</td>\n",
              "      <td>ABBV</td>\n",
              "      <td>1</td>\n",
              "      <td>0.01</td>\n",
              "      <td>-4.09</td>\n",
              "      <td>-3.37</td>\n",
              "      <td>0.12</td>\n",
              "      <td>1</td>\n",
              "      <td>0</td>\n",
              "    </tr>\n",
              "    <tr>\n",
              "      <th>251</th>\n",
              "      <td>221</td>\n",
              "      <td>API</td>\n",
              "      <td>AGS</td>\n",
              "      <td>1</td>\n",
              "      <td>0.03</td>\n",
              "      <td>-3.56</td>\n",
              "      <td>-3.37</td>\n",
              "      <td>0.74</td>\n",
              "      <td>1</td>\n",
              "      <td>0</td>\n",
              "    </tr>\n",
              "  </tbody>\n",
              "</table>\n",
              "<p>252 rows × 10 columns</p>\n",
              "</div>\n",
              "      <button class=\"colab-df-convert\" onclick=\"convertToInteractive('df-17c52344-8533-4f5f-970c-d3f6a5d3043b')\"\n",
              "              title=\"Convert this dataframe to an interactive table.\"\n",
              "              style=\"display:none;\">\n",
              "        \n",
              "  <svg xmlns=\"http://www.w3.org/2000/svg\" height=\"24px\"viewBox=\"0 0 24 24\"\n",
              "       width=\"24px\">\n",
              "    <path d=\"M0 0h24v24H0V0z\" fill=\"none\"/>\n",
              "    <path d=\"M18.56 5.44l.94 2.06.94-2.06 2.06-.94-2.06-.94-.94-2.06-.94 2.06-2.06.94zm-11 1L8.5 8.5l.94-2.06 2.06-.94-2.06-.94L8.5 2.5l-.94 2.06-2.06.94zm10 10l.94 2.06.94-2.06 2.06-.94-2.06-.94-.94-2.06-.94 2.06-2.06.94z\"/><path d=\"M17.41 7.96l-1.37-1.37c-.4-.4-.92-.59-1.43-.59-.52 0-1.04.2-1.43.59L10.3 9.45l-7.72 7.72c-.78.78-.78 2.05 0 2.83L4 21.41c.39.39.9.59 1.41.59.51 0 1.02-.2 1.41-.59l7.78-7.78 2.81-2.81c.8-.78.8-2.07 0-2.86zM5.41 20L4 18.59l7.72-7.72 1.47 1.35L5.41 20z\"/>\n",
              "  </svg>\n",
              "      </button>\n",
              "      \n",
              "  <style>\n",
              "    .colab-df-container {\n",
              "      display:flex;\n",
              "      flex-wrap:wrap;\n",
              "      gap: 12px;\n",
              "    }\n",
              "\n",
              "    .colab-df-convert {\n",
              "      background-color: #E8F0FE;\n",
              "      border: none;\n",
              "      border-radius: 50%;\n",
              "      cursor: pointer;\n",
              "      display: none;\n",
              "      fill: #1967D2;\n",
              "      height: 32px;\n",
              "      padding: 0 0 0 0;\n",
              "      width: 32px;\n",
              "    }\n",
              "\n",
              "    .colab-df-convert:hover {\n",
              "      background-color: #E2EBFA;\n",
              "      box-shadow: 0px 1px 2px rgba(60, 64, 67, 0.3), 0px 1px 3px 1px rgba(60, 64, 67, 0.15);\n",
              "      fill: #174EA6;\n",
              "    }\n",
              "\n",
              "    [theme=dark] .colab-df-convert {\n",
              "      background-color: #3B4455;\n",
              "      fill: #D2E3FC;\n",
              "    }\n",
              "\n",
              "    [theme=dark] .colab-df-convert:hover {\n",
              "      background-color: #434B5C;\n",
              "      box-shadow: 0px 1px 3px 1px rgba(0, 0, 0, 0.15);\n",
              "      filter: drop-shadow(0px 1px 2px rgba(0, 0, 0, 0.3));\n",
              "      fill: #FFFFFF;\n",
              "    }\n",
              "  </style>\n",
              "\n",
              "      <script>\n",
              "        const buttonEl =\n",
              "          document.querySelector('#df-17c52344-8533-4f5f-970c-d3f6a5d3043b button.colab-df-convert');\n",
              "        buttonEl.style.display =\n",
              "          google.colab.kernel.accessAllowed ? 'block' : 'none';\n",
              "\n",
              "        async function convertToInteractive(key) {\n",
              "          const element = document.querySelector('#df-17c52344-8533-4f5f-970c-d3f6a5d3043b');\n",
              "          const dataTable =\n",
              "            await google.colab.kernel.invokeFunction('convertToInteractive',\n",
              "                                                     [key], {});\n",
              "          if (!dataTable) return;\n",
              "\n",
              "          const docLinkHtml = 'Like what you see? Visit the ' +\n",
              "            '<a target=\"_blank\" href=https://colab.research.google.com/notebooks/data_table.ipynb>data table notebook</a>'\n",
              "            + ' to learn more about interactive tables.';\n",
              "          element.innerHTML = '';\n",
              "          dataTable['output_type'] = 'display_data';\n",
              "          await google.colab.output.renderOutput(dataTable, element);\n",
              "          const docLink = document.createElement('div');\n",
              "          docLink.innerHTML = docLinkHtml;\n",
              "          element.appendChild(docLink);\n",
              "        }\n",
              "      </script>\n",
              "    </div>\n",
              "  </div>\n",
              "  "
            ]
          },
          "metadata": {},
          "execution_count": 201
        }
      ]
    },
    {
      "cell_type": "code",
      "source": [
        "show_pair_report(df_cpairs, df_bars, target_element=1)"
      ],
      "metadata": {
        "colab": {
          "base_uri": "https://localhost:8080/",
          "height": 496
        },
        "id": "R6jb514znFec",
        "outputId": "2b919aa1-c36b-4ceb-cfe9-b59b288fbc3f"
      },
      "execution_count": 202,
      "outputs": [
        {
          "output_type": "stream",
          "name": "stdout",
          "text": [
            "show single specific element\n"
          ]
        },
        {
          "output_type": "display_data",
          "data": {
            "text/plain": [
              "<Figure size 1440x648 with 3 Axes>"
            ],
            "image/png": "[encoded data removed]"
          },
          "metadata": {
            "needs_background": "light"
          }
        }
      ]
    },
    {
      "cell_type": "markdown",
      "source": [
        "### HIDDEN MARKOV MODEL SENTIMENT ANALYSIS"
      ],
      "metadata": {
        "id": "nY3j1xXPSnoG"
      }
    },
    {
      "cell_type": "markdown",
      "source": [
        "### PLACING ORDERS\n"
      ],
      "metadata": {
        "id": "Od0JwkatROf5"
      }
    },
    {
      "cell_type": "markdown",
      "source": [
        "### TRADING SESSION\n"
      ],
      "metadata": {
        "id": "itAEDS8zAwPi"
      }
    },
    {
      "cell_type": "markdown",
      "source": [
        "##### Ideas and notes"
      ],
      "metadata": {
        "id": "SAxvv4hZGCZX"
      }
    },
    {
      "cell_type": "markdown",
      "source": [
        "\n",
        "\n",
        "*   track traded pairs, add flag to them \n",
        "*   show the actual chart (based on live data) \n",
        "\n"
      ],
      "metadata": {
        "id": "7HKRFbfVBYi_"
      }
    },
    {
      "cell_type": "markdown",
      "source": [
        "##### global variables"
      ],
      "metadata": {
        "id": "wwna1juTGboG"
      }
    },
    {
      "cell_type": "code",
      "source": [
        "# traded_pairs = []"
      ],
      "metadata": {
        "id": "1R4mg5qMxO7j"
      },
      "execution_count": 203,
      "outputs": []
    },
    {
      "cell_type": "code",
      "source": [
        "df_cpairs"
      ],
      "metadata": {
        "colab": {
          "base_uri": "https://localhost:8080/",
          "height": 424
        },
        "id": "zmiBSoiJjF0S",
        "outputId": "7c1a0b65-f096-4c5b-f2ff-acac4ed7da92"
      },
      "execution_count": 204,
      "outputs": [
        {
          "output_type": "execute_result",
          "data": {
            "text/plain": [
              "     Unnamed: 0 sym_1 sym_2  coint_flag  p_value  t_value  c_value  \\\n",
              "0           235  APPS  APPF           1     0.03    -3.50    -3.37   \n",
              "1            11  AADI  ACHC           1     0.00    -4.32    -3.37   \n",
              "2           117  AMSF  ALIT           1     0.03    -3.52    -3.37   \n",
              "3           199   APA  AGYS           1     0.01    -4.05    -3.37   \n",
              "4           210   APH    AB           1     0.00    -4.64    -3.37   \n",
              "..          ...   ...   ...         ...      ...      ...      ...   \n",
              "247         245  AQUA   AIZ           1     0.03    -3.56    -3.37   \n",
              "248         105  AMSC  AAWW           1     0.01    -3.80    -3.37   \n",
              "249         198   APA   AGS           1     0.01    -3.86    -3.37   \n",
              "250           4  AAAU  ABBV           1     0.01    -4.09    -3.37   \n",
              "251         221   API   AGS           1     0.03    -3.56    -3.37   \n",
              "\n",
              "     hedge_ratio  zero_crossing  traded  \n",
              "0           0.14             43       0  \n",
              "1           0.15             36       0  \n",
              "2           5.89             35       0  \n",
              "3           0.55             35       0  \n",
              "4           2.10             35       0  \n",
              "..           ...            ...     ...  \n",
              "247         0.34              1       0  \n",
              "248         0.05              1       0  \n",
              "249         7.67              1       0  \n",
              "250         0.12              1       0  \n",
              "251         0.74              1       0  \n",
              "\n",
              "[252 rows x 10 columns]"
            ],
            "text/html": [
              "\n",
              "  <div id=\"df-a57aff3e-9858-4861-a785-2d49f91ceb17\">\n",
              "    <div class=\"colab-df-container\">\n",
              "      <div>\n",
              "<style scoped>\n",
              "    .dataframe tbody tr th:only-of-type {\n",
              "        vertical-align: middle;\n",
              "    }\n",
              "\n",
              "    .dataframe tbody tr th {\n",
              "        vertical-align: top;\n",
              "    }\n",
              "\n",
              "    .dataframe thead th {\n",
              "        text-align: right;\n",
              "    }\n",
              "</style>\n",
              "<table border=\"1\" class=\"dataframe\">\n",
              "  <thead>\n",
              "    <tr style=\"text-align: right;\">\n",
              "      <th></th>\n",
              "      <th>Unnamed: 0</th>\n",
              "      <th>sym_1</th>\n",
              "      <th>sym_2</th>\n",
              "      <th>coint_flag</th>\n",
              "      <th>p_value</th>\n",
              "      <th>t_value</th>\n",
              "      <th>c_value</th>\n",
              "      <th>hedge_ratio</th>\n",
              "      <th>zero_crossing</th>\n",
              "      <th>traded</th>\n",
              "    </tr>\n",
              "  </thead>\n",
              "  <tbody>\n",
              "    <tr>\n",
              "      <th>0</th>\n",
              "      <td>235</td>\n",
              "      <td>APPS</td>\n",
              "      <td>APPF</td>\n",
              "      <td>1</td>\n",
              "      <td>0.03</td>\n",
              "      <td>-3.50</td>\n",
              "      <td>-3.37</td>\n",
              "      <td>0.14</td>\n",
              "      <td>43</td>\n",
              "      <td>0</td>\n",
              "    </tr>\n",
              "    <tr>\n",
              "      <th>1</th>\n",
              "      <td>11</td>\n",
              "      <td>AADI</td>\n",
              "      <td>ACHC</td>\n",
              "      <td>1</td>\n",
              "      <td>0.00</td>\n",
              "      <td>-4.32</td>\n",
              "      <td>-3.37</td>\n",
              "      <td>0.15</td>\n",
              "      <td>36</td>\n",
              "      <td>0</td>\n",
              "    </tr>\n",
              "    <tr>\n",
              "      <th>2</th>\n",
              "      <td>117</td>\n",
              "      <td>AMSF</td>\n",
              "      <td>ALIT</td>\n",
              "      <td>1</td>\n",
              "      <td>0.03</td>\n",
              "      <td>-3.52</td>\n",
              "      <td>-3.37</td>\n",
              "      <td>5.89</td>\n",
              "      <td>35</td>\n",
              "      <td>0</td>\n",
              "    </tr>\n",
              "    <tr>\n",
              "      <th>3</th>\n",
              "      <td>199</td>\n",
              "      <td>APA</td>\n",
              "      <td>AGYS</td>\n",
              "      <td>1</td>\n",
              "      <td>0.01</td>\n",
              "      <td>-4.05</td>\n",
              "      <td>-3.37</td>\n",
              "      <td>0.55</td>\n",
              "      <td>35</td>\n",
              "      <td>0</td>\n",
              "    </tr>\n",
              "    <tr>\n",
              "      <th>4</th>\n",
              "      <td>210</td>\n",
              "      <td>APH</td>\n",
              "      <td>AB</td>\n",
              "      <td>1</td>\n",
              "      <td>0.00</td>\n",
              "      <td>-4.64</td>\n",
              "      <td>-3.37</td>\n",
              "      <td>2.10</td>\n",
              "      <td>35</td>\n",
              "      <td>0</td>\n",
              "    </tr>\n",
              "    <tr>\n",
              "      <th>...</th>\n",
              "      <td>...</td>\n",
              "      <td>...</td>\n",
              "      <td>...</td>\n",
              "      <td>...</td>\n",
              "      <td>...</td>\n",
              "      <td>...</td>\n",
              "      <td>...</td>\n",
              "      <td>...</td>\n",
              "      <td>...</td>\n",
              "      <td>...</td>\n",
              "    </tr>\n",
              "    <tr>\n",
              "      <th>247</th>\n",
              "      <td>245</td>\n",
              "      <td>AQUA</td>\n",
              "      <td>AIZ</td>\n",
              "      <td>1</td>\n",
              "      <td>0.03</td>\n",
              "      <td>-3.56</td>\n",
              "      <td>-3.37</td>\n",
              "      <td>0.34</td>\n",
              "      <td>1</td>\n",
              "      <td>0</td>\n",
              "    </tr>\n",
              "    <tr>\n",
              "      <th>248</th>\n",
              "      <td>105</td>\n",
              "      <td>AMSC</td>\n",
              "      <td>AAWW</td>\n",
              "      <td>1</td>\n",
              "      <td>0.01</td>\n",
              "      <td>-3.80</td>\n",
              "      <td>-3.37</td>\n",
              "      <td>0.05</td>\n",
              "      <td>1</td>\n",
              "      <td>0</td>\n",
              "    </tr>\n",
              "    <tr>\n",
              "      <th>249</th>\n",
              "      <td>198</td>\n",
              "      <td>APA</td>\n",
              "      <td>AGS</td>\n",
              "      <td>1</td>\n",
              "      <td>0.01</td>\n",
              "      <td>-3.86</td>\n",
              "      <td>-3.37</td>\n",
              "      <td>7.67</td>\n",
              "      <td>1</td>\n",
              "      <td>0</td>\n",
              "    </tr>\n",
              "    <tr>\n",
              "      <th>250</th>\n",
              "      <td>4</td>\n",
              "      <td>AAAU</td>\n",
              "      <td>ABBV</td>\n",
              "      <td>1</td>\n",
              "      <td>0.01</td>\n",
              "      <td>-4.09</td>\n",
              "      <td>-3.37</td>\n",
              "      <td>0.12</td>\n",
              "      <td>1</td>\n",
              "      <td>0</td>\n",
              "    </tr>\n",
              "    <tr>\n",
              "      <th>251</th>\n",
              "      <td>221</td>\n",
              "      <td>API</td>\n",
              "      <td>AGS</td>\n",
              "      <td>1</td>\n",
              "      <td>0.03</td>\n",
              "      <td>-3.56</td>\n",
              "      <td>-3.37</td>\n",
              "      <td>0.74</td>\n",
              "      <td>1</td>\n",
              "      <td>0</td>\n",
              "    </tr>\n",
              "  </tbody>\n",
              "</table>\n",
              "<p>252 rows × 10 columns</p>\n",
              "</div>\n",
              "      <button class=\"colab-df-convert\" onclick=\"convertToInteractive('df-a57aff3e-9858-4861-a785-2d49f91ceb17')\"\n",
              "              title=\"Convert this dataframe to an interactive table.\"\n",
              "              style=\"display:none;\">\n",
              "        \n",
              "  <svg xmlns=\"http://www.w3.org/2000/svg\" height=\"24px\"viewBox=\"0 0 24 24\"\n",
              "       width=\"24px\">\n",
              "    <path d=\"M0 0h24v24H0V0z\" fill=\"none\"/>\n",
              "    <path d=\"M18.56 5.44l.94 2.06.94-2.06 2.06-.94-2.06-.94-.94-2.06-.94 2.06-2.06.94zm-11 1L8.5 8.5l.94-2.06 2.06-.94-2.06-.94L8.5 2.5l-.94 2.06-2.06.94zm10 10l.94 2.06.94-2.06 2.06-.94-2.06-.94-.94-2.06-.94 2.06-2.06.94z\"/><path d=\"M17.41 7.96l-1.37-1.37c-.4-.4-.92-.59-1.43-.59-.52 0-1.04.2-1.43.59L10.3 9.45l-7.72 7.72c-.78.78-.78 2.05 0 2.83L4 21.41c.39.39.9.59 1.41.59.51 0 1.02-.2 1.41-.59l7.78-7.78 2.81-2.81c.8-.78.8-2.07 0-2.86zM5.41 20L4 18.59l7.72-7.72 1.47 1.35L5.41 20z\"/>\n",
              "  </svg>\n",
              "      </button>\n",
              "      \n",
              "  <style>\n",
              "    .colab-df-container {\n",
              "      display:flex;\n",
              "      flex-wrap:wrap;\n",
              "      gap: 12px;\n",
              "    }\n",
              "\n",
              "    .colab-df-convert {\n",
              "      background-color: #E8F0FE;\n",
              "      border: none;\n",
              "      border-radius: 50%;\n",
              "      cursor: pointer;\n",
              "      display: none;\n",
              "      fill: #1967D2;\n",
              "      height: 32px;\n",
              "      padding: 0 0 0 0;\n",
              "      width: 32px;\n",
              "    }\n",
              "\n",
              "    .colab-df-convert:hover {\n",
              "      background-color: #E2EBFA;\n",
              "      box-shadow: 0px 1px 2px rgba(60, 64, 67, 0.3), 0px 1px 3px 1px rgba(60, 64, 67, 0.15);\n",
              "      fill: #174EA6;\n",
              "    }\n",
              "\n",
              "    [theme=dark] .colab-df-convert {\n",
              "      background-color: #3B4455;\n",
              "      fill: #D2E3FC;\n",
              "    }\n",
              "\n",
              "    [theme=dark] .colab-df-convert:hover {\n",
              "      background-color: #434B5C;\n",
              "      box-shadow: 0px 1px 3px 1px rgba(0, 0, 0, 0.15);\n",
              "      filter: drop-shadow(0px 1px 2px rgba(0, 0, 0, 0.3));\n",
              "      fill: #FFFFFF;\n",
              "    }\n",
              "  </style>\n",
              "\n",
              "      <script>\n",
              "        const buttonEl =\n",
              "          document.querySelector('#df-a57aff3e-9858-4861-a785-2d49f91ceb17 button.colab-df-convert');\n",
              "        buttonEl.style.display =\n",
              "          google.colab.kernel.accessAllowed ? 'block' : 'none';\n",
              "\n",
              "        async function convertToInteractive(key) {\n",
              "          const element = document.querySelector('#df-a57aff3e-9858-4861-a785-2d49f91ceb17');\n",
              "          const dataTable =\n",
              "            await google.colab.kernel.invokeFunction('convertToInteractive',\n",
              "                                                     [key], {});\n",
              "          if (!dataTable) return;\n",
              "\n",
              "          const docLinkHtml = 'Like what you see? Visit the ' +\n",
              "            '<a target=\"_blank\" href=https://colab.research.google.com/notebooks/data_table.ipynb>data table notebook</a>'\n",
              "            + ' to learn more about interactive tables.';\n",
              "          element.innerHTML = '';\n",
              "          dataTable['output_type'] = 'display_data';\n",
              "          await google.colab.output.renderOutput(dataTable, element);\n",
              "          const docLink = document.createElement('div');\n",
              "          docLink.innerHTML = docLinkHtml;\n",
              "          element.appendChild(docLink);\n",
              "        }\n",
              "      </script>\n",
              "    </div>\n",
              "  </div>\n",
              "  "
            ]
          },
          "metadata": {},
          "execution_count": 204
        }
      ]
    },
    {
      "cell_type": "markdown",
      "source": [
        "##### handlers functions"
      ],
      "metadata": {
        "id": "eU2w67RlF58o"
      }
    },
    {
      "cell_type": "code",
      "source": [
        "\n",
        "\n",
        "def turn_pairs_traded (pairs_list, data):\n",
        "  print(pairs_list)\n",
        "  data.loc[(data.sym_1 == pairs_list[0][0]) &  (data.sym_2 == pairs_list[0][1]), \"traded\"] = 1\n",
        "\n",
        "\n",
        "def save_traded_data (data):\n",
        "  df_traded_assets = data.loc[lambda x: x[\"traded\"] == 1]\n",
        "  df_traded_assets.to_csv(\"df_traded_pairs.csv\")\n",
        "  print(\"traded asset list saved!\")\n",
        "  \n",
        "def add_traded_pairs(sym_1, sym_2, data):\n",
        "  traded_pairs = []\n",
        "  traded_pairs.append([sym_1, sym_2])\n",
        "  turn_pairs_traded(traded_pairs, data)\n",
        "  save_traded_data(data)\n"
      ],
      "metadata": {
        "id": "1PqDQAeyF5Gc"
      },
      "execution_count": 205,
      "outputs": []
    },
    {
      "cell_type": "code",
      "source": [
        "add_traded_pairs('APPS', 'APPF', df_cpairs)\n",
        "add_traded_pairs('AADI', 'ACHC', df_cpairs)\n",
        "add_traded_pairs('AMSF', 'ALIT', df_cpairs)"
      ],
      "metadata": {
        "id": "h4RJCBLqbIDF",
        "outputId": "6e09d2bc-758f-4dd9-da32-0d4014b9cd65",
        "colab": {
          "base_uri": "https://localhost:8080/"
        }
      },
      "execution_count": 206,
      "outputs": [
        {
          "output_type": "stream",
          "name": "stdout",
          "text": [
            "[['APPS', 'APPF']]\n",
            "traded asset list saved!\n",
            "[['AADI', 'ACHC']]\n",
            "traded asset list saved!\n",
            "[['AMSF', 'ALIT']]\n",
            "traded asset list saved!\n"
          ]
        }
      ]
    },
    {
      "cell_type": "code",
      "source": [
        "df_test = pd.read_csv('/content/df_traded_pairs.csv')"
      ],
      "metadata": {
        "id": "bCJzqrI2ghQe"
      },
      "execution_count": 207,
      "outputs": []
    },
    {
      "cell_type": "code",
      "source": [
        "df_test.head()"
      ],
      "metadata": {
        "colab": {
          "base_uri": "https://localhost:8080/",
          "height": 143
        },
        "id": "sJx4FNBMIGru",
        "outputId": "d4d5f6b1-8f23-48ae-a32a-120399c2e49f"
      },
      "execution_count": 208,
      "outputs": [
        {
          "output_type": "execute_result",
          "data": {
            "text/plain": [
              "   Unnamed: 0  Unnamed: 0.1 sym_1 sym_2  coint_flag  p_value  t_value  \\\n",
              "0           0           235  APPS  APPF           1     0.03    -3.50   \n",
              "1           1            11  AADI  ACHC           1     0.00    -4.32   \n",
              "2           2           117  AMSF  ALIT           1     0.03    -3.52   \n",
              "\n",
              "   c_value  hedge_ratio  zero_crossing  traded  \n",
              "0    -3.37         0.14             43       1  \n",
              "1    -3.37         0.15             36       1  \n",
              "2    -3.37         5.89             35       1  "
            ],
            "text/html": [
              "\n",
              "  <div id=\"df-b50f8fbf-bbe8-4ccb-a5bf-335a1526ba06\">\n",
              "    <div class=\"colab-df-container\">\n",
              "      <div>\n",
              "<style scoped>\n",
              "    .dataframe tbody tr th:only-of-type {\n",
              "        vertical-align: middle;\n",
              "    }\n",
              "\n",
              "    .dataframe tbody tr th {\n",
              "        vertical-align: top;\n",
              "    }\n",
              "\n",
              "    .dataframe thead th {\n",
              "        text-align: right;\n",
              "    }\n",
              "</style>\n",
              "<table border=\"1\" class=\"dataframe\">\n",
              "  <thead>\n",
              "    <tr style=\"text-align: right;\">\n",
              "      <th></th>\n",
              "      <th>Unnamed: 0</th>\n",
              "      <th>Unnamed: 0.1</th>\n",
              "      <th>sym_1</th>\n",
              "      <th>sym_2</th>\n",
              "      <th>coint_flag</th>\n",
              "      <th>p_value</th>\n",
              "      <th>t_value</th>\n",
              "      <th>c_value</th>\n",
              "      <th>hedge_ratio</th>\n",
              "      <th>zero_crossing</th>\n",
              "      <th>traded</th>\n",
              "    </tr>\n",
              "  </thead>\n",
              "  <tbody>\n",
              "    <tr>\n",
              "      <th>0</th>\n",
              "      <td>0</td>\n",
              "      <td>235</td>\n",
              "      <td>APPS</td>\n",
              "      <td>APPF</td>\n",
              "      <td>1</td>\n",
              "      <td>0.03</td>\n",
              "      <td>-3.50</td>\n",
              "      <td>-3.37</td>\n",
              "      <td>0.14</td>\n",
              "      <td>43</td>\n",
              "      <td>1</td>\n",
              "    </tr>\n",
              "    <tr>\n",
              "      <th>1</th>\n",
              "      <td>1</td>\n",
              "      <td>11</td>\n",
              "      <td>AADI</td>\n",
              "      <td>ACHC</td>\n",
              "      <td>1</td>\n",
              "      <td>0.00</td>\n",
              "      <td>-4.32</td>\n",
              "      <td>-3.37</td>\n",
              "      <td>0.15</td>\n",
              "      <td>36</td>\n",
              "      <td>1</td>\n",
              "    </tr>\n",
              "    <tr>\n",
              "      <th>2</th>\n",
              "      <td>2</td>\n",
              "      <td>117</td>\n",
              "      <td>AMSF</td>\n",
              "      <td>ALIT</td>\n",
              "      <td>1</td>\n",
              "      <td>0.03</td>\n",
              "      <td>-3.52</td>\n",
              "      <td>-3.37</td>\n",
              "      <td>5.89</td>\n",
              "      <td>35</td>\n",
              "      <td>1</td>\n",
              "    </tr>\n",
              "  </tbody>\n",
              "</table>\n",
              "</div>\n",
              "      <button class=\"colab-df-convert\" onclick=\"convertToInteractive('df-b50f8fbf-bbe8-4ccb-a5bf-335a1526ba06')\"\n",
              "              title=\"Convert this dataframe to an interactive table.\"\n",
              "              style=\"display:none;\">\n",
              "        \n",
              "  <svg xmlns=\"http://www.w3.org/2000/svg\" height=\"24px\"viewBox=\"0 0 24 24\"\n",
              "       width=\"24px\">\n",
              "    <path d=\"M0 0h24v24H0V0z\" fill=\"none\"/>\n",
              "    <path d=\"M18.56 5.44l.94 2.06.94-2.06 2.06-.94-2.06-.94-.94-2.06-.94 2.06-2.06.94zm-11 1L8.5 8.5l.94-2.06 2.06-.94-2.06-.94L8.5 2.5l-.94 2.06-2.06.94zm10 10l.94 2.06.94-2.06 2.06-.94-2.06-.94-.94-2.06-.94 2.06-2.06.94z\"/><path d=\"M17.41 7.96l-1.37-1.37c-.4-.4-.92-.59-1.43-.59-.52 0-1.04.2-1.43.59L10.3 9.45l-7.72 7.72c-.78.78-.78 2.05 0 2.83L4 21.41c.39.39.9.59 1.41.59.51 0 1.02-.2 1.41-.59l7.78-7.78 2.81-2.81c.8-.78.8-2.07 0-2.86zM5.41 20L4 18.59l7.72-7.72 1.47 1.35L5.41 20z\"/>\n",
              "  </svg>\n",
              "      </button>\n",
              "      \n",
              "  <style>\n",
              "    .colab-df-container {\n",
              "      display:flex;\n",
              "      flex-wrap:wrap;\n",
              "      gap: 12px;\n",
              "    }\n",
              "\n",
              "    .colab-df-convert {\n",
              "      background-color: #E8F0FE;\n",
              "      border: none;\n",
              "      border-radius: 50%;\n",
              "      cursor: pointer;\n",
              "      display: none;\n",
              "      fill: #1967D2;\n",
              "      height: 32px;\n",
              "      padding: 0 0 0 0;\n",
              "      width: 32px;\n",
              "    }\n",
              "\n",
              "    .colab-df-convert:hover {\n",
              "      background-color: #E2EBFA;\n",
              "      box-shadow: 0px 1px 2px rgba(60, 64, 67, 0.3), 0px 1px 3px 1px rgba(60, 64, 67, 0.15);\n",
              "      fill: #174EA6;\n",
              "    }\n",
              "\n",
              "    [theme=dark] .colab-df-convert {\n",
              "      background-color: #3B4455;\n",
              "      fill: #D2E3FC;\n",
              "    }\n",
              "\n",
              "    [theme=dark] .colab-df-convert:hover {\n",
              "      background-color: #434B5C;\n",
              "      box-shadow: 0px 1px 3px 1px rgba(0, 0, 0, 0.15);\n",
              "      filter: drop-shadow(0px 1px 2px rgba(0, 0, 0, 0.3));\n",
              "      fill: #FFFFFF;\n",
              "    }\n",
              "  </style>\n",
              "\n",
              "      <script>\n",
              "        const buttonEl =\n",
              "          document.querySelector('#df-b50f8fbf-bbe8-4ccb-a5bf-335a1526ba06 button.colab-df-convert');\n",
              "        buttonEl.style.display =\n",
              "          google.colab.kernel.accessAllowed ? 'block' : 'none';\n",
              "\n",
              "        async function convertToInteractive(key) {\n",
              "          const element = document.querySelector('#df-b50f8fbf-bbe8-4ccb-a5bf-335a1526ba06');\n",
              "          const dataTable =\n",
              "            await google.colab.kernel.invokeFunction('convertToInteractive',\n",
              "                                                     [key], {});\n",
              "          if (!dataTable) return;\n",
              "\n",
              "          const docLinkHtml = 'Like what you see? Visit the ' +\n",
              "            '<a target=\"_blank\" href=https://colab.research.google.com/notebooks/data_table.ipynb>data table notebook</a>'\n",
              "            + ' to learn more about interactive tables.';\n",
              "          element.innerHTML = '';\n",
              "          dataTable['output_type'] = 'display_data';\n",
              "          await google.colab.output.renderOutput(dataTable, element);\n",
              "          const docLink = document.createElement('div');\n",
              "          docLink.innerHTML = docLinkHtml;\n",
              "          element.appendChild(docLink);\n",
              "        }\n",
              "      </script>\n",
              "    </div>\n",
              "  </div>\n",
              "  "
            ]
          },
          "metadata": {},
          "execution_count": 208
        }
      ]
    },
    {
      "cell_type": "code",
      "source": [],
      "metadata": {
        "id": "SNEBuh27VR5s"
      },
      "execution_count": 208,
      "outputs": []
    }
  ],
  "metadata": {
    "colab": {
      "provenance": [],
      "mount_file_id": "16WPQxYmdiKt95qzVvLgUeHnTGa3CdXSi",
      "authorship_tag": "ABX9TyPBZGU7khQ473fSn7o78+Rw",
      "include_colab_link": true
    },
    "kernelspec": {
      "display_name": "Python 3",
      "name": "python3"
    },
    "language_info": {
      "name": "python"
    }
  },
  "nbformat": 4,
  "nbformat_minor": 0
}