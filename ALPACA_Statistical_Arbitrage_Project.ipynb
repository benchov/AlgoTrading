{
  "cells": [
    {
      "cell_type": "markdown",
      "metadata": {
        "id": "view-in-github",
        "colab_type": "text"
      },
      "source": [
        "<a href=\"https://colab.research.google.com/github/benchov/AlgoTrading/blob/master/ALPACA_Statistical_Arbitrage_Project.ipynb\" target=\"_parent\"><img src=\"https://colab.research.google.com/assets/colab-badge.svg\" alt=\"Open In Colab\"/></a>"
      ]
    },
    {
      "cell_type": "code",
      "execution_count": null,
      "metadata": {
        "colab": {
          "base_uri": "https://localhost:8080/"
        },
        "id": "etooASeX5EwL",
        "outputId": "446d17e3-3c53-4ef6-b88e-471b4a52ccc7"
      },
      "outputs": [
        {
          "name": "stdout",
          "output_type": "stream",
          "text": [
            "Looking in indexes: https://pypi.org/simple, https://us-python.pkg.dev/colab-wheels/public/simple/\n",
            "Collecting alpaca-py\n",
            "  Downloading alpaca_py-0.7.1-py3-none-any.whl (95 kB)\n",
            "\u001b[2K     \u001b[90m━━━━━━━━━━━━━━━━━━━━━━━━━━━━━━━━━━━━━━━━\u001b[0m \u001b[32m95.4/95.4 KB\u001b[0m \u001b[31m3.2 MB/s\u001b[0m eta \u001b[36m0:00:00\u001b[0m\n",
            "\u001b[?25hCollecting websockets<11.0,>=10.2\n",
            "  Downloading websockets-10.4-cp38-cp38-manylinux_2_5_x86_64.manylinux1_x86_64.manylinux_2_17_x86_64.manylinux2014_x86_64.whl (106 kB)\n",
            "\u001b[2K     \u001b[90m━━━━━━━━━━━━━━━━━━━━━━━━━━━━━━━━━━━━━━\u001b[0m \u001b[32m107.0/107.0 KB\u001b[0m \u001b[31m10.7 MB/s\u001b[0m eta \u001b[36m0:00:00\u001b[0m\n",
            "\u001b[?25hCollecting sseclient-py<2.0.0,>=1.7.2\n",
            "  Downloading sseclient_py-1.7.2-py2.py3-none-any.whl (8.4 kB)\n",
            "Requirement already satisfied: pydantic<2.0.0,>=1.9.0 in /usr/local/lib/python3.8/dist-packages (from alpaca-py) (1.10.4)\n",
            "Collecting requests<3.0.0,>=2.27.1\n",
            "  Downloading requests-2.28.2-py3-none-any.whl (62 kB)\n",
            "\u001b[2K     \u001b[90m━━━━━━━━━━━━━━━━━━━━━━━━━━━━━━━━━━━━━━━━\u001b[0m \u001b[32m62.8/62.8 KB\u001b[0m \u001b[31m5.3 MB/s\u001b[0m eta \u001b[36m0:00:00\u001b[0m\n",
            "\u001b[?25hRequirement already satisfied: pandas<2.0.0,>=1.3.5 in /usr/local/lib/python3.8/dist-packages (from alpaca-py) (1.3.5)\n",
            "Requirement already satisfied: msgpack<2.0.0,>=1.0.3 in /usr/local/lib/python3.8/dist-packages (from alpaca-py) (1.0.4)\n",
            "Requirement already satisfied: pytz>=2017.3 in /usr/local/lib/python3.8/dist-packages (from pandas<2.0.0,>=1.3.5->alpaca-py) (2022.7.1)\n",
            "Requirement already satisfied: python-dateutil>=2.7.3 in /usr/local/lib/python3.8/dist-packages (from pandas<2.0.0,>=1.3.5->alpaca-py) (2.8.2)\n",
            "Requirement already satisfied: numpy>=1.17.3 in /usr/local/lib/python3.8/dist-packages (from pandas<2.0.0,>=1.3.5->alpaca-py) (1.21.6)\n",
            "Requirement already satisfied: typing-extensions>=4.2.0 in /usr/local/lib/python3.8/dist-packages (from pydantic<2.0.0,>=1.9.0->alpaca-py) (4.5.0)\n",
            "Requirement already satisfied: urllib3<1.27,>=1.21.1 in /usr/local/lib/python3.8/dist-packages (from requests<3.0.0,>=2.27.1->alpaca-py) (1.24.3)\n",
            "Requirement already satisfied: certifi>=2017.4.17 in /usr/local/lib/python3.8/dist-packages (from requests<3.0.0,>=2.27.1->alpaca-py) (2022.12.7)\n",
            "Requirement already satisfied: idna<4,>=2.5 in /usr/local/lib/python3.8/dist-packages (from requests<3.0.0,>=2.27.1->alpaca-py) (2.10)\n",
            "Requirement already satisfied: charset-normalizer<4,>=2 in /usr/local/lib/python3.8/dist-packages (from requests<3.0.0,>=2.27.1->alpaca-py) (3.0.1)\n",
            "Requirement already satisfied: six>=1.5 in /usr/local/lib/python3.8/dist-packages (from python-dateutil>=2.7.3->pandas<2.0.0,>=1.3.5->alpaca-py) (1.15.0)\n",
            "Installing collected packages: sseclient-py, websockets, requests, alpaca-py\n",
            "  Attempting uninstall: requests\n",
            "    Found existing installation: requests 2.25.1\n",
            "    Uninstalling requests-2.25.1:\n",
            "      Successfully uninstalled requests-2.25.1\n",
            "Successfully installed alpaca-py-0.7.1 requests-2.28.2 sseclient-py-1.7.2 websockets-10.4\n"
          ]
        }
      ],
      "source": [
        "!pip install alpaca-py"
      ]
    },
    {
      "cell_type": "code",
      "execution_count": null,
      "metadata": {
        "id": "169kWETG5Jlt"
      },
      "outputs": [],
      "source": [
        "# imports\n",
        "from alpaca.trading.client import TradingClient\n",
        "from alpaca.trading.requests import GetAssetsRequest\n",
        "from alpaca.trading.enums import AssetClass, AssetStatus\n",
        "from alpaca.data.historical import StockHistoricalDataClient\n",
        "from alpaca.data.requests import StockBarsRequest\n",
        "from alpaca.data.timeframe import TimeFrame\n",
        "from datetime import datetime\n",
        "from statsmodels.tsa.stattools import coint\n",
        "import statsmodels.api as sm\n",
        "import numpy as np\n",
        "import pandas as pd"
      ]
    },
    {
      "cell_type": "code",
      "execution_count": null,
      "metadata": {
        "id": "Y7M98fkL5pS6"
      },
      "outputs": [],
      "source": [
        "# API keys for Alpaca\n",
        "API_KEY = 'PKJAMRGMC0EMO7LCX999'\n",
        "SECRET_KEY = 'gRhoCnuCZ7qpzQkH1NRSMVQZXNGyNcurvrexeJEp'"
      ]
    },
    {
      "cell_type": "code",
      "execution_count": null,
      "metadata": {
        "id": "quSgGXBYA34i"
      },
      "outputs": [],
      "source": [
        "# Functions\n"
      ]
    },
    {
      "cell_type": "code",
      "execution_count": null,
      "metadata": {
        "id": "P-fItoP66sre"
      },
      "outputs": [],
      "source": [
        "# creating an instance of client\n",
        "trading_client = TradingClient(API_KEY, SECRET_KEY, paper=True)"
      ]
    },
    {
      "cell_type": "code",
      "execution_count": null,
      "metadata": {
        "colab": {
          "base_uri": "https://localhost:8080/"
        },
        "id": "Kb8y7k5I678U",
        "outputId": "cc998107-2723-44c9-c740-1c836755ec7b"
      },
      "outputs": [
        {
          "name": "stdout",
          "output_type": "stream",
          "text": [
            "id=UUID('d38ec6c2-a23b-4708-a064-cda26744e218') account_number='PA3OJP423MLE' status=<AccountStatus.ACTIVE: 'ACTIVE'> crypto_status=<AccountStatus.ACTIVE: 'ACTIVE'> currency='USD' buying_power='200000' regt_buying_power='200000' daytrading_buying_power='0' non_marginable_buying_power='100000' cash='100000' accrued_fees='0' pending_transfer_out=None pending_transfer_in='0' portfolio_value='100000' pattern_day_trader=False trading_blocked=False transfers_blocked=False account_blocked=False created_at=datetime.datetime(2022, 12, 22, 19, 56, 32, 73526, tzinfo=datetime.timezone.utc) trade_suspended_by_user=False multiplier='2' shorting_enabled=True equity='100000' last_equity='100000' long_market_value='0' short_market_value='0' initial_margin='0' maintenance_margin='0' last_maintenance_margin='0' sma='100000' daytrade_count=0\n"
          ]
        }
      ],
      "source": [
        "# test the availability of the api by account information\n",
        "account = trading_client.get_account()\n",
        "print(account)"
      ]
    },
    {
      "cell_type": "code",
      "execution_count": null,
      "metadata": {
        "colab": {
          "base_uri": "https://localhost:8080/"
        },
        "id": "4G_gPFr7LIK0",
        "outputId": "b0d422f6-53fa-4a5d-95a8-372feb1beee8"
      },
      "outputs": [
        {
          "data": {
            "text/plain": [
              "(['BRK.B', 'BRKL', 'BRKR', 'BRMK', 'STX'], 3865)"
            ]
          },
          "execution_count": 7,
          "metadata": {},
          "output_type": "execute_result"
        }
      ],
      "source": [
        "# get the available US equity stocks\n",
        "search_params = GetAssetsRequest(asset_class=AssetClass.US_EQUITY, status=AssetStatus.ACTIVE)\n",
        "assets = trading_client.get_all_assets(search_params)\n",
        "asset_list = []\n",
        "for i in assets:\n",
        "  if i.shortable == True and i.tradable == True and i.fractionable == True:\n",
        "    asset_list.append(i.symbol)\n",
        "asset_list[:5],len(asset_list)"
      ]
    },
    {
      "cell_type": "code",
      "execution_count": null,
      "metadata": {
        "colab": {
          "base_uri": "https://localhost:8080/"
        },
        "id": "BAuDKTjLRBVV",
        "outputId": "12d0986c-bc1a-499f-d6d8-b50855cd6d7e"
      },
      "outputs": [
        {
          "data": {
            "text/plain": [
              "{   'asset_class': <AssetClass.US_EQUITY: 'us_equity'>,\n",
              "    'easy_to_borrow': False,\n",
              "    'exchange': <AssetExchange.OTC: 'OTC'>,\n",
              "    'fractionable': False,\n",
              "    'id': UUID('5a800fb6-3028-4e08-9d8d-22470dbceb7e'),\n",
              "    'maintenance_margin_requirement': 100.0,\n",
              "    'marginable': False,\n",
              "    'min_order_size': None,\n",
              "    'min_trade_increment': None,\n",
              "    'name': 'TAKASAGO INTERNATIONAL CORP SHS (Japan)',\n",
              "    'price_increment': None,\n",
              "    'shortable': False,\n",
              "    'status': <AssetStatus.ACTIVE: 'active'>,\n",
              "    'symbol': 'TKINF',\n",
              "    'tradable': False}"
            ]
          },
          "execution_count": 8,
          "metadata": {},
          "output_type": "execute_result"
        }
      ],
      "source": [
        "assets[0]"
      ]
    },
    {
      "cell_type": "markdown",
      "metadata": {
        "id": "S9M4rNgWfV1j"
      },
      "source": [
        "#### Get asset price history - 200 steps back into past.\n",
        "\n",
        "\n",
        "1.   Createing a function which get the filtered available assets\n",
        "2.   Get only those which has enough data (for example enough day to the strategy can calculate the cointegration\n",
        "3.   Save into a DataFrame\n",
        "\n",
        "\n",
        "\n"
      ]
    },
    {
      "cell_type": "code",
      "execution_count": null,
      "metadata": {
        "id": "NR4NrXzeLRrM"
      },
      "outputs": [],
      "source": [
        "# Get data from ALPACA server\n",
        "symbol_client = StockHistoricalDataClient(API_KEY, SECRET_KEY)\n",
        "multi_symbol_params = StockBarsRequest(symbol_or_symbols=asset_list[:1000], \n",
        "                                        timeframe=TimeFrame.Hour,\n",
        "                                        start=\"2023-01-01 00:00:00\"\n",
        "                                        )\n",
        " \n",
        "bars = symbol_client.get_stock_bars(multi_symbol_params)\n",
        "\n",
        "# turn data into DataFrame\n",
        "df_bars = bars.df"
      ]
    },
    {
      "cell_type": "code",
      "execution_count": null,
      "metadata": {
        "id": "jvEJskxeFR_7"
      },
      "outputs": [],
      "source": [
        "# DURING THE DEVELOPMENT PHASE REDUCING THE NUMBER OF STOCKS\n",
        "# df_bars = df_bars.sample(frac=0.1)"
      ]
    },
    {
      "cell_type": "code",
      "execution_count": null,
      "metadata": {
        "id": "M0jnz1vM6SMx"
      },
      "outputs": [],
      "source": [
        "tickers = df_bars.index.get_level_values(0).unique()"
      ]
    },
    {
      "cell_type": "code",
      "execution_count": null,
      "metadata": {
        "colab": {
          "base_uri": "https://localhost:8080/"
        },
        "id": "Wu3Hrq0UgDMb",
        "outputId": "7ae225bb-96df-44c8-88de-78a1e28d9da1"
      },
      "outputs": [
        {
          "name": "stderr",
          "output_type": "stream",
          "text": [
            "/usr/local/lib/python3.8/dist-packages/pandas/core/generic.py:4150: PerformanceWarning: dropping on a non-lexsorted multi-index without a level parameter may impact performance.\n",
            "  obj = obj._drop_axis(labels, axis, level=level, errors=errors)\n"
          ]
        }
      ],
      "source": [
        "# removing those tickers which has not enough data to calculate cointegration\n",
        "symbol_for_remove = []\n",
        "for symbol in tickers:\n",
        "  if len(df_bars.loc[symbol]) < 200:\n",
        "      symbol_for_remove.append(symbol)\n",
        "df_bars_cleared = df_bars.drop(symbol_for_remove, axis=0)"
      ]
    },
    {
      "cell_type": "code",
      "execution_count": null,
      "metadata": {
        "colab": {
          "base_uri": "https://localhost:8080/"
        },
        "id": "t5xrc5L9JIUD",
        "outputId": "b0fda5a5-9101-4ddf-e3b1-0332d1fb6426"
      },
      "outputs": [
        {
          "name": "stdout",
          "output_type": "stream",
          "text": [
            "962 ticker removed\n"
          ]
        }
      ],
      "source": [
        "print(f\"{len(tickers) - len(symbol_for_remove)} ticker removed\")"
      ]
    },
    {
      "cell_type": "code",
      "execution_count": null,
      "metadata": {
        "colab": {
          "base_uri": "https://localhost:8080/"
        },
        "id": "trOhopdjNvxb",
        "outputId": "4bbe4215-746f-4141-c9e6-4237875b7af4"
      },
      "outputs": [
        {
          "data": {
            "text/plain": [
              "{   'asset_class': <AssetClass.US_EQUITY: 'us_equity'>,\n",
              "    'easy_to_borrow': True,\n",
              "    'exchange': <AssetExchange.NYSE: 'NYSE'>,\n",
              "    'fractionable': True,\n",
              "    'id': UUID('ebd34bdc-6fff-4555-b1d3-f3537788ae18'),\n",
              "    'maintenance_margin_requirement': 30.0,\n",
              "    'marginable': True,\n",
              "    'min_order_size': None,\n",
              "    'min_trade_increment': None,\n",
              "    'name': 'ASGN Incorporated',\n",
              "    'price_increment': None,\n",
              "    'shortable': True,\n",
              "    'status': <AssetStatus.ACTIVE: 'active'>,\n",
              "    'symbol': 'ASGN',\n",
              "    'tradable': True}"
            ]
          },
          "execution_count": 14,
          "metadata": {},
          "output_type": "execute_result"
        }
      ],
      "source": [
        "# create new updated ticker list\n",
        "tickers_cleared = df_bars.index.get_level_values(0).unique()\n",
        "\n",
        "# check filtered asset to shortable, tradable and fractianable\n",
        "test_asset = trading_client.get_asset(tickers_cleared[10])\n",
        "test_asset"
      ]
    },
    {
      "cell_type": "code",
      "execution_count": null,
      "metadata": {
        "colab": {
          "base_uri": "https://localhost:8080/"
        },
        "id": "NUH3l1FRGTub",
        "outputId": "80ec4a46-6d11-4a1c-8092-0bb64b106c8a"
      },
      "outputs": [
        {
          "data": {
            "text/plain": [
              "(979, 286267)"
            ]
          },
          "execution_count": 15,
          "metadata": {},
          "output_type": "execute_result"
        }
      ],
      "source": [
        "len(tickers_cleared), len(df_bars_cleared)"
      ]
    },
    {
      "cell_type": "markdown",
      "metadata": {
        "id": "wwEYeQqKMRzS"
      },
      "source": [
        "#### Calculating cointegration"
      ]
    },
    {
      "cell_type": "code",
      "execution_count": null,
      "metadata": {
        "id": "UBnuF-J0HCmj"
      },
      "outputs": [],
      "source": [
        "def calculate_zscore (spread):\n",
        "  df = pd.DataFrame(spread)\n",
        "  mean = df.rolling(center=False, window=21).mean()\n",
        "  std = df.rolling(center=False, window=21).std()\n",
        "  x = df.rolling(center=False, window=1).mean()\n",
        "  df['ZSCORE'] = (x - mean) / std\n",
        "  return df['ZSCORE'].astype(float).values\n",
        "\n",
        "def calculate_spread (series_1, series_2, hedge_ratio):\n",
        "  spread = pd.Series(series_1) - (pd.Series(series_2) * hedge_ratio)\n",
        "  return spread\n",
        "\n",
        "def calculate_cointegration (series_1, series_2):\n",
        "  coint_flag = 0\n",
        "  coint_result = coint(series_1, series_2)\n",
        "  coint_t = coint_result[0]\n",
        "  p_value = coint_result[1]\n",
        "  critical_value = coint_result[2][1]\n",
        "  model = sm.OLS(series_1, series_2).fit()\n",
        "  hedge_ratio = model.params[0]\n",
        "  spread = calculate_spread(series_1, series_2, hedge_ratio)\n",
        "  zero_crossings = len(np.where(np.diff(np.sign(spread)))[0])\n",
        "  if p_value < 0.5 and coint_t < critical_value:\n",
        "    coint_flag = 1\n",
        "  return (\n",
        "      coint_flag, \n",
        "      round(p_value, 2),\n",
        "      round(coint_t, 2), \n",
        "      round(critical_value, 2), \n",
        "      round(hedge_ratio, 2), \n",
        "      zero_crossings)\n",
        "\n",
        "def get_close_price(prices):\n",
        "  # create a series with close prices but put the timestamp into it\n",
        "  close_prices = list(prices.loc[:, 'close'])\n",
        "  return close_prices\n",
        "\n",
        "def get_cointegrated_pairs (data, ticker ):\n",
        "  print('calculating cointegration....')\n",
        "  # loop thorugh coins and check cointegration\n",
        "  coint_pair_list = []\n",
        "  included_list = []\n",
        "\n",
        "  for sym_1 in ticker:\n",
        "  #   # check each coin against the first  (sym_1) symbol\n",
        "      for sym_2 in ticker:\n",
        "        if sym_2 != sym_1: \n",
        "\n",
        "          # get unique asset combination if and ensure it is not duplicated\n",
        "          sorted_asset_names = sorted(sym_1 + sym_2)\n",
        "          unique = \"\".join(sorted_asset_names)\n",
        "          if unique in included_list:\n",
        "            break\n",
        "\n",
        "          # Get close prices \n",
        "          series_1 = get_close_price(data.loc[sym_1])\n",
        "          series_2 = get_close_price(data.loc[sym_2])\n",
        "\n",
        "\n",
        "          # check cointegration and add result\n",
        "          if len(series_1) > 200 and len(series_2) > 200:\n",
        "            coint_flag, p_value, t_value, c_value, hedge_ratio, zero_crossing = calculate_cointegration(series_1[:200], series_2[:200])\n",
        "\n",
        "          if coint_flag == 1:\n",
        "            included_list.append(unique)\n",
        "            coint_pair_list.append({\n",
        "                \"sym_1\": sym_1,\n",
        "                \"sym_2\": sym_2,\n",
        "                \"coint_flag\": coint_flag,\n",
        "                \"p_value\": p_value,\n",
        "                \"t_value\": t_value,\n",
        "                \"c_value\": c_value,\n",
        "                \"hedge_ratio\": hedge_ratio,\n",
        "                \"zero_crossing\": zero_crossing\n",
        "              })\n",
        "  # save output\n",
        "  df_coint = pd.DataFrame(coint_pair_list)\n",
        "  df_coint = df_coint.sort_values(\"zero_crossing\", ascending=False)\n",
        "  df_coint.to_csv(\"cointegrated_pairs.csv\")\n",
        "  print('done')\n",
        "  return df_coint"
      ]
    },
    {
      "cell_type": "code",
      "execution_count": null,
      "metadata": {
        "colab": {
          "background_save": true,
          "base_uri": "https://localhost:8080/"
        },
        "id": "sCLWjC_RMY-t",
        "outputId": "1139ad16-0614-42b8-f549-3dd75544a646"
      },
      "outputs": [
        {
          "name": "stdout",
          "output_type": "stream",
          "text": [
            "calculating cointegration....\n",
            "done\n"
          ]
        },
        {
          "data": {
            "text/html": [
              "\n",
              "  <div id=\"df-537cdf04-29f2-4c90-a317-0dc0735ba53f\">\n",
              "    <div class=\"colab-df-container\">\n",
              "      <div>\n",
              "<style scoped>\n",
              "    .dataframe tbody tr th:only-of-type {\n",
              "        vertical-align: middle;\n",
              "    }\n",
              "\n",
              "    .dataframe tbody tr th {\n",
              "        vertical-align: top;\n",
              "    }\n",
              "\n",
              "    .dataframe thead th {\n",
              "        text-align: right;\n",
              "    }\n",
              "</style>\n",
              "<table border=\"1\" class=\"dataframe\">\n",
              "  <thead>\n",
              "    <tr style=\"text-align: right;\">\n",
              "      <th></th>\n",
              "      <th>sym_1</th>\n",
              "      <th>sym_2</th>\n",
              "      <th>coint_flag</th>\n",
              "      <th>p_value</th>\n",
              "      <th>t_value</th>\n",
              "      <th>c_value</th>\n",
              "      <th>hedge_ratio</th>\n",
              "      <th>zero_crossing</th>\n",
              "    </tr>\n",
              "  </thead>\n",
              "  <tbody>\n",
              "    <tr>\n",
              "      <th>548</th>\n",
              "      <td>BCC</td>\n",
              "      <td>DNAD</td>\n",
              "      <td>1</td>\n",
              "      <td>0.00</td>\n",
              "      <td>-4.14</td>\n",
              "      <td>-3.37</td>\n",
              "      <td>11.19</td>\n",
              "      <td>55</td>\n",
              "    </tr>\n",
              "    <tr>\n",
              "      <th>547</th>\n",
              "      <td>BCC</td>\n",
              "      <td>DLTH</td>\n",
              "      <td>1</td>\n",
              "      <td>0.00</td>\n",
              "      <td>-4.14</td>\n",
              "      <td>-3.37</td>\n",
              "      <td>11.19</td>\n",
              "      <td>55</td>\n",
              "    </tr>\n",
              "    <tr>\n",
              "      <th>6448</th>\n",
              "      <td>SGOL</td>\n",
              "      <td>BAR</td>\n",
              "      <td>1</td>\n",
              "      <td>0.00</td>\n",
              "      <td>-6.37</td>\n",
              "      <td>-3.37</td>\n",
              "      <td>0.97</td>\n",
              "      <td>52</td>\n",
              "    </tr>\n",
              "    <tr>\n",
              "      <th>5528</th>\n",
              "      <td>NTST</td>\n",
              "      <td>AVPT</td>\n",
              "      <td>1</td>\n",
              "      <td>0.01</td>\n",
              "      <td>-3.84</td>\n",
              "      <td>-3.37</td>\n",
              "      <td>4.49</td>\n",
              "      <td>52</td>\n",
              "    </tr>\n",
              "    <tr>\n",
              "      <th>1058</th>\n",
              "      <td>CCS</td>\n",
              "      <td>BATT</td>\n",
              "      <td>1</td>\n",
              "      <td>0.00</td>\n",
              "      <td>-4.32</td>\n",
              "      <td>-3.37</td>\n",
              "      <td>4.40</td>\n",
              "      <td>51</td>\n",
              "    </tr>\n",
              "    <tr>\n",
              "      <th>...</th>\n",
              "      <td>...</td>\n",
              "      <td>...</td>\n",
              "      <td>...</td>\n",
              "      <td>...</td>\n",
              "      <td>...</td>\n",
              "      <td>...</td>\n",
              "      <td>...</td>\n",
              "      <td>...</td>\n",
              "    </tr>\n",
              "    <tr>\n",
              "      <th>6100</th>\n",
              "      <td>PCG</td>\n",
              "      <td>ATLC</td>\n",
              "      <td>1</td>\n",
              "      <td>0.00</td>\n",
              "      <td>-4.26</td>\n",
              "      <td>-3.37</td>\n",
              "      <td>0.51</td>\n",
              "      <td>1</td>\n",
              "    </tr>\n",
              "    <tr>\n",
              "      <th>4008</th>\n",
              "      <td>GSM</td>\n",
              "      <td>BCAB</td>\n",
              "      <td>1</td>\n",
              "      <td>0.02</td>\n",
              "      <td>-3.71</td>\n",
              "      <td>-3.37</td>\n",
              "      <td>0.84</td>\n",
              "      <td>1</td>\n",
              "    </tr>\n",
              "    <tr>\n",
              "      <th>6476</th>\n",
              "      <td>SLQD</td>\n",
              "      <td>BCAB</td>\n",
              "      <td>1</td>\n",
              "      <td>0.01</td>\n",
              "      <td>-3.93</td>\n",
              "      <td>-3.37</td>\n",
              "      <td>9.11</td>\n",
              "      <td>1</td>\n",
              "    </tr>\n",
              "    <tr>\n",
              "      <th>2757</th>\n",
              "      <td>DUK</td>\n",
              "      <td>PAPR</td>\n",
              "      <td>1</td>\n",
              "      <td>0.01</td>\n",
              "      <td>-3.82</td>\n",
              "      <td>-3.37</td>\n",
              "      <td>4.10</td>\n",
              "      <td>1</td>\n",
              "    </tr>\n",
              "    <tr>\n",
              "      <th>5964</th>\n",
              "      <td>PAYA</td>\n",
              "      <td>BAX</td>\n",
              "      <td>1</td>\n",
              "      <td>0.02</td>\n",
              "      <td>-3.60</td>\n",
              "      <td>-3.37</td>\n",
              "      <td>0.20</td>\n",
              "      <td>1</td>\n",
              "    </tr>\n",
              "  </tbody>\n",
              "</table>\n",
              "<p>7010 rows × 8 columns</p>\n",
              "</div>\n",
              "      <button class=\"colab-df-convert\" onclick=\"convertToInteractive('df-537cdf04-29f2-4c90-a317-0dc0735ba53f')\"\n",
              "              title=\"Convert this dataframe to an interactive table.\"\n",
              "              style=\"display:none;\">\n",
              "        \n",
              "  <svg xmlns=\"http://www.w3.org/2000/svg\" height=\"24px\"viewBox=\"0 0 24 24\"\n",
              "       width=\"24px\">\n",
              "    <path d=\"M0 0h24v24H0V0z\" fill=\"none\"/>\n",
              "    <path d=\"M18.56 5.44l.94 2.06.94-2.06 2.06-.94-2.06-.94-.94-2.06-.94 2.06-2.06.94zm-11 1L8.5 8.5l.94-2.06 2.06-.94-2.06-.94L8.5 2.5l-.94 2.06-2.06.94zm10 10l.94 2.06.94-2.06 2.06-.94-2.06-.94-.94-2.06-.94 2.06-2.06.94z\"/><path d=\"M17.41 7.96l-1.37-1.37c-.4-.4-.92-.59-1.43-.59-.52 0-1.04.2-1.43.59L10.3 9.45l-7.72 7.72c-.78.78-.78 2.05 0 2.83L4 21.41c.39.39.9.59 1.41.59.51 0 1.02-.2 1.41-.59l7.78-7.78 2.81-2.81c.8-.78.8-2.07 0-2.86zM5.41 20L4 18.59l7.72-7.72 1.47 1.35L5.41 20z\"/>\n",
              "  </svg>\n",
              "      </button>\n",
              "      \n",
              "  <style>\n",
              "    .colab-df-container {\n",
              "      display:flex;\n",
              "      flex-wrap:wrap;\n",
              "      gap: 12px;\n",
              "    }\n",
              "\n",
              "    .colab-df-convert {\n",
              "      background-color: #E8F0FE;\n",
              "      border: none;\n",
              "      border-radius: 50%;\n",
              "      cursor: pointer;\n",
              "      display: none;\n",
              "      fill: #1967D2;\n",
              "      height: 32px;\n",
              "      padding: 0 0 0 0;\n",
              "      width: 32px;\n",
              "    }\n",
              "\n",
              "    .colab-df-convert:hover {\n",
              "      background-color: #E2EBFA;\n",
              "      box-shadow: 0px 1px 2px rgba(60, 64, 67, 0.3), 0px 1px 3px 1px rgba(60, 64, 67, 0.15);\n",
              "      fill: #174EA6;\n",
              "    }\n",
              "\n",
              "    [theme=dark] .colab-df-convert {\n",
              "      background-color: #3B4455;\n",
              "      fill: #D2E3FC;\n",
              "    }\n",
              "\n",
              "    [theme=dark] .colab-df-convert:hover {\n",
              "      background-color: #434B5C;\n",
              "      box-shadow: 0px 1px 3px 1px rgba(0, 0, 0, 0.15);\n",
              "      filter: drop-shadow(0px 1px 2px rgba(0, 0, 0, 0.3));\n",
              "      fill: #FFFFFF;\n",
              "    }\n",
              "  </style>\n",
              "\n",
              "      <script>\n",
              "        const buttonEl =\n",
              "          document.querySelector('#df-537cdf04-29f2-4c90-a317-0dc0735ba53f button.colab-df-convert');\n",
              "        buttonEl.style.display =\n",
              "          google.colab.kernel.accessAllowed ? 'block' : 'none';\n",
              "\n",
              "        async function convertToInteractive(key) {\n",
              "          const element = document.querySelector('#df-537cdf04-29f2-4c90-a317-0dc0735ba53f');\n",
              "          const dataTable =\n",
              "            await google.colab.kernel.invokeFunction('convertToInteractive',\n",
              "                                                     [key], {});\n",
              "          if (!dataTable) return;\n",
              "\n",
              "          const docLinkHtml = 'Like what you see? Visit the ' +\n",
              "            '<a target=\"_blank\" href=https://colab.research.google.com/notebooks/data_table.ipynb>data table notebook</a>'\n",
              "            + ' to learn more about interactive tables.';\n",
              "          element.innerHTML = '';\n",
              "          dataTable['output_type'] = 'display_data';\n",
              "          await google.colab.output.renderOutput(dataTable, element);\n",
              "          const docLink = document.createElement('div');\n",
              "          docLink.innerHTML = docLinkHtml;\n",
              "          element.appendChild(docLink);\n",
              "        }\n",
              "      </script>\n",
              "    </div>\n",
              "  </div>\n",
              "  "
            ],
            "text/plain": [
              "     sym_1 sym_2  coint_flag  p_value  t_value  c_value  hedge_ratio  \\\n",
              "548    BCC  DNAD           1     0.00    -4.14    -3.37        11.19   \n",
              "547    BCC  DLTH           1     0.00    -4.14    -3.37        11.19   \n",
              "6448  SGOL   BAR           1     0.00    -6.37    -3.37         0.97   \n",
              "5528  NTST  AVPT           1     0.01    -3.84    -3.37         4.49   \n",
              "1058   CCS  BATT           1     0.00    -4.32    -3.37         4.40   \n",
              "...    ...   ...         ...      ...      ...      ...          ...   \n",
              "6100   PCG  ATLC           1     0.00    -4.26    -3.37         0.51   \n",
              "4008   GSM  BCAB           1     0.02    -3.71    -3.37         0.84   \n",
              "6476  SLQD  BCAB           1     0.01    -3.93    -3.37         9.11   \n",
              "2757   DUK  PAPR           1     0.01    -3.82    -3.37         4.10   \n",
              "5964  PAYA   BAX           1     0.02    -3.60    -3.37         0.20   \n",
              "\n",
              "      zero_crossing  \n",
              "548              55  \n",
              "547              55  \n",
              "6448             52  \n",
              "5528             52  \n",
              "1058             51  \n",
              "...             ...  \n",
              "6100              1  \n",
              "4008              1  \n",
              "6476              1  \n",
              "2757              1  \n",
              "5964              1  \n",
              "\n",
              "[7010 rows x 8 columns]"
            ]
          },
          "execution_count": 28,
          "metadata": {},
          "output_type": "execute_result"
        }
      ],
      "source": [
        "get_cointegrated_pairs(df_bars, tickers_cleared)"
      ]
    },
    {
      "cell_type": "code",
      "execution_count": null,
      "metadata": {
        "id": "_ZlmXqsbDnR_"
      },
      "outputs": [],
      "source": [
        "  "
      ]
    }
  ],
  "metadata": {
    "colab": {
      "provenance": [],
      "authorship_tag": "ABX9TyMqsDGxmzmPDfKb49bgn/DB",
      "include_colab_link": true
    },
    "kernelspec": {
      "display_name": "Python 3",
      "name": "python3"
    },
    "language_info": {
      "name": "python"
    }
  },
  "nbformat": 4,
  "nbformat_minor": 0
}