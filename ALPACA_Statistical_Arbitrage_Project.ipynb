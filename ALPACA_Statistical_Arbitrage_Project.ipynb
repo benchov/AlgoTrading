{
  "nbformat": 4,
  "nbformat_minor": 0,
  "metadata": {
    "colab": {
      "provenance": [],
      "authorship_tag": "ABX9TyMTEV1FruHx8bP4U7vY4fkd",
      "include_colab_link": true
    },
    "kernelspec": {
      "name": "python3",
      "display_name": "Python 3"
    },
    "language_info": {
      "name": "python"
    }
  },
  "cells": [
    {
      "cell_type": "markdown",
      "metadata": {
        "id": "view-in-github",
        "colab_type": "text"
      },
      "source": [
        "<a href=\"https://colab.research.google.com/github/benchov/AlgoTrading/blob/master/ALPACA_Statistical_Arbitrage_Project.ipynb\" target=\"_parent\"><img src=\"https://colab.research.google.com/assets/colab-badge.svg\" alt=\"Open In Colab\"/></a>"
      ]
    },
    {
      "cell_type": "code",
      "execution_count": 3,
      "metadata": {
        "colab": {
          "base_uri": "https://localhost:8080/"
        },
        "id": "etooASeX5EwL",
        "outputId": "404e5718-f396-49db-d7ad-c41a59c0dffc"
      },
      "outputs": [
        {
          "output_type": "stream",
          "name": "stdout",
          "text": [
            "Looking in indexes: https://pypi.org/simple, https://us-python.pkg.dev/colab-wheels/public/simple/\n",
            "Requirement already satisfied: alpaca-py in /usr/local/lib/python3.8/dist-packages (0.7.1)\n",
            "Requirement already satisfied: msgpack<2.0.0,>=1.0.3 in /usr/local/lib/python3.8/dist-packages (from alpaca-py) (1.0.3)\n",
            "Requirement already satisfied: websockets<11.0,>=10.2 in /usr/local/lib/python3.8/dist-packages (from alpaca-py) (10.4)\n",
            "Requirement already satisfied: pandas<2.0.0,>=1.3.5 in /usr/local/lib/python3.8/dist-packages (from alpaca-py) (1.3.5)\n",
            "Requirement already satisfied: pydantic<2.0.0,>=1.9.0 in /usr/local/lib/python3.8/dist-packages (from alpaca-py) (1.10.4)\n",
            "Requirement already satisfied: sseclient-py<2.0.0,>=1.7.2 in /usr/local/lib/python3.8/dist-packages (from alpaca-py) (1.7.2)\n",
            "Requirement already satisfied: requests<3.0.0,>=2.27.1 in /usr/local/lib/python3.8/dist-packages (from alpaca-py) (2.28.2)\n",
            "Requirement already satisfied: pytz>=2017.3 in /usr/local/lib/python3.8/dist-packages (from pandas<2.0.0,>=1.3.5->alpaca-py) (2022.7)\n",
            "Requirement already satisfied: numpy>=1.17.3 in /usr/local/lib/python3.8/dist-packages (from pandas<2.0.0,>=1.3.5->alpaca-py) (1.21.6)\n",
            "Requirement already satisfied: python-dateutil>=2.7.3 in /usr/local/lib/python3.8/dist-packages (from pandas<2.0.0,>=1.3.5->alpaca-py) (2.8.2)\n",
            "Requirement already satisfied: typing-extensions>=4.2.0 in /usr/local/lib/python3.8/dist-packages (from pydantic<2.0.0,>=1.9.0->alpaca-py) (4.4.0)\n",
            "Requirement already satisfied: certifi>=2017.4.17 in /usr/local/lib/python3.8/dist-packages (from requests<3.0.0,>=2.27.1->alpaca-py) (2022.12.7)\n",
            "Requirement already satisfied: urllib3<1.27,>=1.21.1 in /usr/local/lib/python3.8/dist-packages (from requests<3.0.0,>=2.27.1->alpaca-py) (1.24.3)\n",
            "Requirement already satisfied: idna<4,>=2.5 in /usr/local/lib/python3.8/dist-packages (from requests<3.0.0,>=2.27.1->alpaca-py) (2.10)\n",
            "Requirement already satisfied: charset-normalizer<4,>=2 in /usr/local/lib/python3.8/dist-packages (from requests<3.0.0,>=2.27.1->alpaca-py) (2.1.1)\n",
            "Requirement already satisfied: six>=1.5 in /usr/local/lib/python3.8/dist-packages (from python-dateutil>=2.7.3->pandas<2.0.0,>=1.3.5->alpaca-py) (1.15.0)\n"
          ]
        }
      ],
      "source": [
        "!pip install alpaca-py"
      ]
    },
    {
      "cell_type": "code",
      "source": [
        "# imports\n",
        "from alpaca.trading.client import TradingClient\n",
        "from alpaca.trading.requests import GetAssetsRequest\n",
        "from alpaca.trading.enums import AssetClass, AssetStatus"
      ],
      "metadata": {
        "id": "169kWETG5Jlt"
      },
      "execution_count": 41,
      "outputs": []
    },
    {
      "cell_type": "code",
      "source": [
        "# API keys for Alpaca\n",
        "API_KEY = 'PKJAMRGMC0EMO7LCX999'\n",
        "SECRET_KEY = 'gRhoCnuCZ7qpzQkH1NRSMVQZXNGyNcurvrexeJEp'"
      ],
      "metadata": {
        "id": "Y7M98fkL5pS6"
      },
      "execution_count": 6,
      "outputs": []
    },
    {
      "cell_type": "code",
      "source": [
        "# creating an instance of client\n",
        "trading_client = TradingClient(API_KEY, SECRET_KEY, paper=True)"
      ],
      "metadata": {
        "id": "P-fItoP66sre"
      },
      "execution_count": 12,
      "outputs": []
    },
    {
      "cell_type": "code",
      "source": [
        "# test the availability of the api by account information\n",
        "account = trading_client.get_account()\n",
        "print(account)"
      ],
      "metadata": {
        "colab": {
          "base_uri": "https://localhost:8080/"
        },
        "id": "Kb8y7k5I678U",
        "outputId": "2b13c9d2-d6ae-4b25-d332-52712bb93a0b"
      },
      "execution_count": 13,
      "outputs": [
        {
          "output_type": "stream",
          "name": "stdout",
          "text": [
            "id=UUID('d38ec6c2-a23b-4708-a064-cda26744e218') account_number='PA3OJP423MLE' status=<AccountStatus.ACTIVE: 'ACTIVE'> crypto_status=<AccountStatus.ACTIVE: 'ACTIVE'> currency='USD' buying_power='200000' regt_buying_power='200000' daytrading_buying_power='0' non_marginable_buying_power='100000' cash='100000' accrued_fees='0' pending_transfer_out=None pending_transfer_in='0' portfolio_value='100000' pattern_day_trader=False trading_blocked=False transfers_blocked=False account_blocked=False created_at=datetime.datetime(2022, 12, 22, 19, 56, 32, 73526, tzinfo=datetime.timezone.utc) trade_suspended_by_user=False multiplier='2' shorting_enabled=True equity='100000' last_equity='100000' long_market_value='0' short_market_value='0' initial_margin='0' maintenance_margin='0' last_maintenance_margin='0' sma='100000' daytrade_count=0\n"
          ]
        }
      ]
    },
    {
      "cell_type": "code",
      "source": [
        "# get the available US equity stocks\n",
        "search_params = GetAssetsRequest(asset_class=AssetClass.US_EQUITY, status=AssetStatus.ACTIVE)\n",
        "assets = trading_client.get_all_assets(search_params)\n",
        "asset_list = []\n",
        "for i in assets:\n",
        "  asset_list.append(i.symbol)\n",
        "asset_list[:5],len(asset_list)"
      ],
      "metadata": {
        "colab": {
          "base_uri": "https://localhost:8080/"
        },
        "id": "4G_gPFr7LIK0",
        "outputId": "5e8f92c5-2fea-456f-ea07-0e74fb220d6a"
      },
      "execution_count": 45,
      "outputs": [
        {
          "output_type": "execute_result",
          "data": {
            "text/plain": [
              "(['EMWPF', 'LMPX', 'ZSANQ', 'NTPIF', 'KGFHY'], 10915)"
            ]
          },
          "metadata": {},
          "execution_count": 45
        }
      ]
    },
    {
      "cell_type": "code",
      "source": [
        "assets[0]"
      ],
      "metadata": {
        "colab": {
          "base_uri": "https://localhost:8080/"
        },
        "id": "BAuDKTjLRBVV",
        "outputId": "3ae53c08-496c-4f42-8fe6-d1717c39f67e"
      },
      "execution_count": 46,
      "outputs": [
        {
          "output_type": "execute_result",
          "data": {
            "text/plain": [
              "{   'asset_class': <AssetClass.US_EQUITY: 'us_equity'>,\n",
              "    'easy_to_borrow': False,\n",
              "    'exchange': <AssetExchange.OTC: 'OTC'>,\n",
              "    'fractionable': False,\n",
              "    'id': UUID('69eafcc9-6942-4e08-a1bf-920f6b56adfc'),\n",
              "    'maintenance_margin_requirement': 100.0,\n",
              "    'marginable': False,\n",
              "    'min_order_size': None,\n",
              "    'min_trade_increment': None,\n",
              "    'name': 'EROS MEDIA WORLD PLC Class A Ordinary Shares (Isle of Man)',\n",
              "    'price_increment': None,\n",
              "    'shortable': False,\n",
              "    'status': <AssetStatus.ACTIVE: 'active'>,\n",
              "    'symbol': 'EMWPF',\n",
              "    'tradable': False}"
            ]
          },
          "metadata": {},
          "execution_count": 46
        }
      ]
    },
    {
      "cell_type": "code",
      "source": [],
      "metadata": {
        "id": "NR4NrXzeLRrM"
      },
      "execution_count": null,
      "outputs": []
    }
  ]
}