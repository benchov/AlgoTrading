{
  "nbformat": 4,
  "nbformat_minor": 0,
  "metadata": {
    "colab": {
      "provenance": [],
      "authorship_tag": "ABX9TyOtzv20cwQ7s6fhsjBaLrx/",
      "include_colab_link": true
    },
    "kernelspec": {
      "name": "python3",
      "display_name": "Python 3"
    },
    "language_info": {
      "name": "python"
    }
  },
  "cells": [
    {
      "cell_type": "markdown",
      "metadata": {
        "id": "view-in-github",
        "colab_type": "text"
      },
      "source": [
        "<a href=\"https://colab.research.google.com/github/benchov/AlgoTrading/blob/master/XGB_Feature_Selection.ipynb\" target=\"_parent\"><img src=\"https://colab.research.google.com/assets/colab-badge.svg\" alt=\"Open In Colab\"/></a>"
      ]
    },
    {
      "cell_type": "code",
      "source": [
        "# Installs"
      ],
      "metadata": {
        "id": "TduNLAhsAOn-"
      },
      "execution_count": 53,
      "outputs": []
    },
    {
      "cell_type": "code",
      "execution_count": 54,
      "metadata": {
        "id": "MGhAbokE_Mel"
      },
      "outputs": [],
      "source": [
        "# Remove Future Warnings\n",
        "import warnings\n",
        "warnings.simplefilter(action='ignore', category=\"FutureWarning\")\n",
        "\n",
        "# General\n",
        "import numpy as np\n",
        "\n",
        "# Data management\n",
        "import pandas as pd\n",
        "from sklearn.model_selection import train_test_split\n",
        "\n",
        "# Machine Learning\n",
        "from xgboost import XGBClassifier\n",
        "from sklearn.model_selection import cross_val_score, RandomizedSearchCV\n",
        "from sklearn.model_selection import RepeatedStratifiedKFold\n",
        "\n",
        "# Evaluation \n",
        "from sklearn.metrics import precision_score\n",
        "\n",
        "# Reporting\n",
        "import matplotlib.pyplot as plt"
      ]
    },
    {
      "cell_type": "code",
      "source": [
        "# Import preprocessed data\n",
        "df = pd.read_csv('/content/BTC-USD.csv')\n",
        "df.set_index('Date', inplace=True)\n",
        "df.head()"
      ],
      "metadata": {
        "colab": {
          "base_uri": "https://localhost:8080/",
          "height": 388
        },
        "id": "yjXA7iN4B4rm",
        "outputId": "62a5efdc-1a56-4ad4-922e-33ca1f3d6f5e"
      },
      "execution_count": 55,
      "outputs": [
        {
          "output_type": "execute_result",
          "data": {
            "text/plain": [
              "                Open      High       Low  ...  Returns_T2  Range_T2  RSI_Ret_T2\n",
              "Date                                      ...                                  \n",
              "2017-01-31  0.000878  0.053054  0.001615  ...   -0.002272  0.004646    0.991144\n",
              "2017-02-01  0.054272  0.017587  0.054056  ...    0.000964  0.003887    1.003974\n",
              "2017-02-02  0.019630  0.024675  0.012855  ...    0.054348  0.055442    1.192634\n",
              "2017-02-03  0.021676  0.020079  0.026005  ...    0.019188  0.018926    1.048237\n",
              "2017-02-04  0.019645  0.011636  0.006314  ...    0.023030  0.030816    1.051268\n",
              "\n",
              "[5 rows x 21 columns]"
            ],
            "text/html": [
              "\n",
              "  <div id=\"df-ff0cf375-029a-4245-b791-7db21ec0cee0\">\n",
              "    <div class=\"colab-df-container\">\n",
              "      <div>\n",
              "<style scoped>\n",
              "    .dataframe tbody tr th:only-of-type {\n",
              "        vertical-align: middle;\n",
              "    }\n",
              "\n",
              "    .dataframe tbody tr th {\n",
              "        vertical-align: top;\n",
              "    }\n",
              "\n",
              "    .dataframe thead th {\n",
              "        text-align: right;\n",
              "    }\n",
              "</style>\n",
              "<table border=\"1\" class=\"dataframe\">\n",
              "  <thead>\n",
              "    <tr style=\"text-align: right;\">\n",
              "      <th></th>\n",
              "      <th>Open</th>\n",
              "      <th>High</th>\n",
              "      <th>Low</th>\n",
              "      <th>Close</th>\n",
              "      <th>Volume</th>\n",
              "      <th>Returns</th>\n",
              "      <th>Range</th>\n",
              "      <th>Bench_C_Rets</th>\n",
              "      <th>RSI</th>\n",
              "      <th>RSI_Ret</th>\n",
              "      <th>MA_12</th>\n",
              "      <th>MA_21</th>\n",
              "      <th>DOW</th>\n",
              "      <th>Roll_Rets</th>\n",
              "      <th>Avg_Range</th>\n",
              "      <th>Returns_T1</th>\n",
              "      <th>Range_T1</th>\n",
              "      <th>RSI_Ret_T1</th>\n",
              "      <th>Returns_T2</th>\n",
              "      <th>Range_T2</th>\n",
              "      <th>RSI_Ret_T2</th>\n",
              "    </tr>\n",
              "    <tr>\n",
              "      <th>Date</th>\n",
              "      <th></th>\n",
              "      <th></th>\n",
              "      <th></th>\n",
              "      <th></th>\n",
              "      <th></th>\n",
              "      <th></th>\n",
              "      <th></th>\n",
              "      <th></th>\n",
              "      <th></th>\n",
              "      <th></th>\n",
              "      <th></th>\n",
              "      <th></th>\n",
              "      <th></th>\n",
              "      <th></th>\n",
              "      <th></th>\n",
              "      <th></th>\n",
              "      <th></th>\n",
              "      <th></th>\n",
              "      <th></th>\n",
              "      <th></th>\n",
              "      <th></th>\n",
              "    </tr>\n",
              "  </thead>\n",
              "  <tbody>\n",
              "    <tr>\n",
              "      <th>2017-01-31</th>\n",
              "      <td>0.000878</td>\n",
              "      <td>0.053054</td>\n",
              "      <td>0.001615</td>\n",
              "      <td>970.403015</td>\n",
              "      <td>1.103895</td>\n",
              "      <td>0.054348</td>\n",
              "      <td>0.055442</td>\n",
              "      <td>-0.029463</td>\n",
              "      <td>60.205366</td>\n",
              "      <td>1.192634</td>\n",
              "      <td>918.828003</td>\n",
              "      <td>885.613522</td>\n",
              "      <td>1</td>\n",
              "      <td>0.011408</td>\n",
              "      <td>0.057910</td>\n",
              "      <td>0.000964</td>\n",
              "      <td>0.003887</td>\n",
              "      <td>1.003974</td>\n",
              "      <td>-0.002272</td>\n",
              "      <td>0.004646</td>\n",
              "      <td>0.991144</td>\n",
              "    </tr>\n",
              "    <tr>\n",
              "      <th>2017-02-01</th>\n",
              "      <td>0.054272</td>\n",
              "      <td>0.017587</td>\n",
              "      <td>0.054056</td>\n",
              "      <td>989.023010</td>\n",
              "      <td>-0.087932</td>\n",
              "      <td>0.019188</td>\n",
              "      <td>0.018926</td>\n",
              "      <td>-0.009863</td>\n",
              "      <td>63.109498</td>\n",
              "      <td>1.048237</td>\n",
              "      <td>926.661087</td>\n",
              "      <td>895.673808</td>\n",
              "      <td>2</td>\n",
              "      <td>0.007132</td>\n",
              "      <td>0.057381</td>\n",
              "      <td>0.054348</td>\n",
              "      <td>0.055442</td>\n",
              "      <td>1.192634</td>\n",
              "      <td>0.000964</td>\n",
              "      <td>0.003887</td>\n",
              "      <td>1.003974</td>\n",
              "    </tr>\n",
              "    <tr>\n",
              "      <th>2017-02-02</th>\n",
              "      <td>0.019630</td>\n",
              "      <td>0.024675</td>\n",
              "      <td>0.012855</td>\n",
              "      <td>1011.799988</td>\n",
              "      <td>-0.028572</td>\n",
              "      <td>0.023030</td>\n",
              "      <td>0.030816</td>\n",
              "      <td>0.012600</td>\n",
              "      <td>66.345006</td>\n",
              "      <td>1.051268</td>\n",
              "      <td>934.162003</td>\n",
              "      <td>905.529332</td>\n",
              "      <td>3</td>\n",
              "      <td>0.008542</td>\n",
              "      <td>0.057675</td>\n",
              "      <td>0.019188</td>\n",
              "      <td>0.018926</td>\n",
              "      <td>1.048237</td>\n",
              "      <td>0.054348</td>\n",
              "      <td>0.055442</td>\n",
              "      <td>1.192634</td>\n",
              "    </tr>\n",
              "    <tr>\n",
              "      <th>2017-02-03</th>\n",
              "      <td>0.021676</td>\n",
              "      <td>0.020079</td>\n",
              "      <td>0.026005</td>\n",
              "      <td>1029.910034</td>\n",
              "      <td>0.380309</td>\n",
              "      <td>0.017899</td>\n",
              "      <td>0.024861</td>\n",
              "      <td>0.032145</td>\n",
              "      <td>68.695922</td>\n",
              "      <td>1.035435</td>\n",
              "      <td>942.931758</td>\n",
              "      <td>915.335333</td>\n",
              "      <td>4</td>\n",
              "      <td>-0.079792</td>\n",
              "      <td>0.054832</td>\n",
              "      <td>0.023030</td>\n",
              "      <td>0.030816</td>\n",
              "      <td>1.051268</td>\n",
              "      <td>0.019188</td>\n",
              "      <td>0.018926</td>\n",
              "      <td>1.048237</td>\n",
              "    </tr>\n",
              "    <tr>\n",
              "      <th>2017-02-04</th>\n",
              "      <td>0.019645</td>\n",
              "      <td>0.011636</td>\n",
              "      <td>0.006314</td>\n",
              "      <td>1042.900024</td>\n",
              "      <td>-0.229603</td>\n",
              "      <td>0.012613</td>\n",
              "      <td>0.030281</td>\n",
              "      <td>0.045785</td>\n",
              "      <td>70.298572</td>\n",
              "      <td>1.023330</td>\n",
              "      <td>953.089091</td>\n",
              "      <td>926.025239</td>\n",
              "      <td>5</td>\n",
              "      <td>0.055230</td>\n",
              "      <td>0.045565</td>\n",
              "      <td>0.017899</td>\n",
              "      <td>0.024861</td>\n",
              "      <td>1.035435</td>\n",
              "      <td>0.023030</td>\n",
              "      <td>0.030816</td>\n",
              "      <td>1.051268</td>\n",
              "    </tr>\n",
              "  </tbody>\n",
              "</table>\n",
              "</div>\n",
              "      <button class=\"colab-df-convert\" onclick=\"convertToInteractive('df-ff0cf375-029a-4245-b791-7db21ec0cee0')\"\n",
              "              title=\"Convert this dataframe to an interactive table.\"\n",
              "              style=\"display:none;\">\n",
              "        \n",
              "  <svg xmlns=\"http://www.w3.org/2000/svg\" height=\"24px\"viewBox=\"0 0 24 24\"\n",
              "       width=\"24px\">\n",
              "    <path d=\"M0 0h24v24H0V0z\" fill=\"none\"/>\n",
              "    <path d=\"M18.56 5.44l.94 2.06.94-2.06 2.06-.94-2.06-.94-.94-2.06-.94 2.06-2.06.94zm-11 1L8.5 8.5l.94-2.06 2.06-.94-2.06-.94L8.5 2.5l-.94 2.06-2.06.94zm10 10l.94 2.06.94-2.06 2.06-.94-2.06-.94-.94-2.06-.94 2.06-2.06.94z\"/><path d=\"M17.41 7.96l-1.37-1.37c-.4-.4-.92-.59-1.43-.59-.52 0-1.04.2-1.43.59L10.3 9.45l-7.72 7.72c-.78.78-.78 2.05 0 2.83L4 21.41c.39.39.9.59 1.41.59.51 0 1.02-.2 1.41-.59l7.78-7.78 2.81-2.81c.8-.78.8-2.07 0-2.86zM5.41 20L4 18.59l7.72-7.72 1.47 1.35L5.41 20z\"/>\n",
              "  </svg>\n",
              "      </button>\n",
              "      \n",
              "  <style>\n",
              "    .colab-df-container {\n",
              "      display:flex;\n",
              "      flex-wrap:wrap;\n",
              "      gap: 12px;\n",
              "    }\n",
              "\n",
              "    .colab-df-convert {\n",
              "      background-color: #E8F0FE;\n",
              "      border: none;\n",
              "      border-radius: 50%;\n",
              "      cursor: pointer;\n",
              "      display: none;\n",
              "      fill: #1967D2;\n",
              "      height: 32px;\n",
              "      padding: 0 0 0 0;\n",
              "      width: 32px;\n",
              "    }\n",
              "\n",
              "    .colab-df-convert:hover {\n",
              "      background-color: #E2EBFA;\n",
              "      box-shadow: 0px 1px 2px rgba(60, 64, 67, 0.3), 0px 1px 3px 1px rgba(60, 64, 67, 0.15);\n",
              "      fill: #174EA6;\n",
              "    }\n",
              "\n",
              "    [theme=dark] .colab-df-convert {\n",
              "      background-color: #3B4455;\n",
              "      fill: #D2E3FC;\n",
              "    }\n",
              "\n",
              "    [theme=dark] .colab-df-convert:hover {\n",
              "      background-color: #434B5C;\n",
              "      box-shadow: 0px 1px 3px 1px rgba(0, 0, 0, 0.15);\n",
              "      filter: drop-shadow(0px 1px 2px rgba(0, 0, 0, 0.3));\n",
              "      fill: #FFFFFF;\n",
              "    }\n",
              "  </style>\n",
              "\n",
              "      <script>\n",
              "        const buttonEl =\n",
              "          document.querySelector('#df-ff0cf375-029a-4245-b791-7db21ec0cee0 button.colab-df-convert');\n",
              "        buttonEl.style.display =\n",
              "          google.colab.kernel.accessAllowed ? 'block' : 'none';\n",
              "\n",
              "        async function convertToInteractive(key) {\n",
              "          const element = document.querySelector('#df-ff0cf375-029a-4245-b791-7db21ec0cee0');\n",
              "          const dataTable =\n",
              "            await google.colab.kernel.invokeFunction('convertToInteractive',\n",
              "                                                     [key], {});\n",
              "          if (!dataTable) return;\n",
              "\n",
              "          const docLinkHtml = 'Like what you see? Visit the ' +\n",
              "            '<a target=\"_blank\" href=https://colab.research.google.com/notebooks/data_table.ipynb>data table notebook</a>'\n",
              "            + ' to learn more about interactive tables.';\n",
              "          element.innerHTML = '';\n",
              "          dataTable['output_type'] = 'display_data';\n",
              "          await google.colab.output.renderOutput(dataTable, element);\n",
              "          const docLink = document.createElement('div');\n",
              "          docLink.innerHTML = docLinkHtml;\n",
              "          element.appendChild(docLink);\n",
              "        }\n",
              "      </script>\n",
              "    </div>\n",
              "  </div>\n",
              "  "
            ]
          },
          "metadata": {},
          "execution_count": 55
        }
      ]
    },
    {
      "cell_type": "code",
      "source": [
        "# add prediction target\n",
        "df.loc[df['Range'].shift(-1) > df['Avg_Range'], 'TARGET'] = 1\n",
        "df.loc[df['Range'].shift(-1) <= df['Avg_Range'], 'TARGET'] = 0"
      ],
      "metadata": {
        "id": "eJGnN2DJCNgU"
      },
      "execution_count": 56,
      "outputs": []
    },
    {
      "cell_type": "code",
      "source": [
        "# fill NA's\n",
        "df['TARGET'].fillna(0, inplace=True)\n",
        "df.tail()"
      ],
      "metadata": {
        "colab": {
          "base_uri": "https://localhost:8080/",
          "height": 388
        },
        "id": "f2brH03CDbSD",
        "outputId": "e367322c-96e0-4bf4-a08f-0d8cc5e3c063"
      },
      "execution_count": 57,
      "outputs": [
        {
          "output_type": "execute_result",
          "data": {
            "text/plain": [
              "                Open      High       Low  ...  Range_T2  RSI_Ret_T2  TARGET\n",
              "Date                                      ...                              \n",
              "2022-05-28 -0.021487 -0.018129  0.008047  ...  0.055632    0.977232     0.0\n",
              "2022-05-29  0.013879  0.023707  0.010035  ...  0.036020    0.949541     1.0\n",
              "2022-05-30  0.014593  0.083111  0.016035  ...  0.009117    1.027560     0.0\n",
              "2022-05-31  0.077454  0.009397  0.067657  ...  0.022777    1.090628     1.0\n",
              "2022-06-01  0.002165 -0.009072 -0.057040  ...  0.090298    1.253042     0.0\n",
              "\n",
              "[5 rows x 22 columns]"
            ],
            "text/html": [
              "\n",
              "  <div id=\"df-885b5346-5e3b-4d0f-81fd-19ddd1af51bd\">\n",
              "    <div class=\"colab-df-container\">\n",
              "      <div>\n",
              "<style scoped>\n",
              "    .dataframe tbody tr th:only-of-type {\n",
              "        vertical-align: middle;\n",
              "    }\n",
              "\n",
              "    .dataframe tbody tr th {\n",
              "        vertical-align: top;\n",
              "    }\n",
              "\n",
              "    .dataframe thead th {\n",
              "        text-align: right;\n",
              "    }\n",
              "</style>\n",
              "<table border=\"1\" class=\"dataframe\">\n",
              "  <thead>\n",
              "    <tr style=\"text-align: right;\">\n",
              "      <th></th>\n",
              "      <th>Open</th>\n",
              "      <th>High</th>\n",
              "      <th>Low</th>\n",
              "      <th>Close</th>\n",
              "      <th>Volume</th>\n",
              "      <th>Returns</th>\n",
              "      <th>Range</th>\n",
              "      <th>Bench_C_Rets</th>\n",
              "      <th>RSI</th>\n",
              "      <th>RSI_Ret</th>\n",
              "      <th>MA_12</th>\n",
              "      <th>MA_21</th>\n",
              "      <th>DOW</th>\n",
              "      <th>Roll_Rets</th>\n",
              "      <th>Avg_Range</th>\n",
              "      <th>Returns_T1</th>\n",
              "      <th>Range_T1</th>\n",
              "      <th>RSI_Ret_T1</th>\n",
              "      <th>Returns_T2</th>\n",
              "      <th>Range_T2</th>\n",
              "      <th>RSI_Ret_T2</th>\n",
              "      <th>TARGET</th>\n",
              "    </tr>\n",
              "    <tr>\n",
              "      <th>Date</th>\n",
              "      <th></th>\n",
              "      <th></th>\n",
              "      <th></th>\n",
              "      <th></th>\n",
              "      <th></th>\n",
              "      <th></th>\n",
              "      <th></th>\n",
              "      <th></th>\n",
              "      <th></th>\n",
              "      <th></th>\n",
              "      <th></th>\n",
              "      <th></th>\n",
              "      <th></th>\n",
              "      <th></th>\n",
              "      <th></th>\n",
              "      <th></th>\n",
              "      <th></th>\n",
              "      <th></th>\n",
              "      <th></th>\n",
              "      <th></th>\n",
              "      <th></th>\n",
              "      <th></th>\n",
              "    </tr>\n",
              "  </thead>\n",
              "  <tbody>\n",
              "    <tr>\n",
              "      <th>2022-05-28</th>\n",
              "      <td>-0.021487</td>\n",
              "      <td>-0.018129</td>\n",
              "      <td>0.008047</td>\n",
              "      <td>28814.900391</td>\n",
              "      <td>-0.029042</td>\n",
              "      <td>0.006544</td>\n",
              "      <td>0.009117</td>\n",
              "      <td>32.894788</td>\n",
              "      <td>37.238957</td>\n",
              "      <td>1.027560</td>\n",
              "      <td>29453.642415</td>\n",
              "      <td>29874.254371</td>\n",
              "      <td>5</td>\n",
              "      <td>-0.298233</td>\n",
              "      <td>0.056286</td>\n",
              "      <td>-0.021856</td>\n",
              "      <td>0.036020</td>\n",
              "      <td>0.949541</td>\n",
              "      <td>-0.009984</td>\n",
              "      <td>0.055632</td>\n",
              "      <td>0.977232</td>\n",
              "      <td>0.0</td>\n",
              "    </tr>\n",
              "    <tr>\n",
              "      <th>2022-05-29</th>\n",
              "      <td>0.013879</td>\n",
              "      <td>0.023707</td>\n",
              "      <td>0.010035</td>\n",
              "      <td>29445.957031</td>\n",
              "      <td>-0.490594</td>\n",
              "      <td>0.021900</td>\n",
              "      <td>0.022777</td>\n",
              "      <td>33.634047</td>\n",
              "      <td>40.613855</td>\n",
              "      <td>1.090628</td>\n",
              "      <td>29371.984049</td>\n",
              "      <td>29654.573010</td>\n",
              "      <td>6</td>\n",
              "      <td>-0.247068</td>\n",
              "      <td>0.055605</td>\n",
              "      <td>0.006544</td>\n",
              "      <td>0.009117</td>\n",
              "      <td>1.027560</td>\n",
              "      <td>-0.021856</td>\n",
              "      <td>0.036020</td>\n",
              "      <td>0.949541</td>\n",
              "      <td>1.0</td>\n",
              "    </tr>\n",
              "    <tr>\n",
              "      <th>2022-05-30</th>\n",
              "      <td>0.014593</td>\n",
              "      <td>0.083111</td>\n",
              "      <td>0.016035</td>\n",
              "      <td>31726.390625</td>\n",
              "      <td>1.170788</td>\n",
              "      <td>0.077445</td>\n",
              "      <td>0.090298</td>\n",
              "      <td>36.313300</td>\n",
              "      <td>50.890862</td>\n",
              "      <td>1.253042</td>\n",
              "      <td>29622.493978</td>\n",
              "      <td>29722.641462</td>\n",
              "      <td>0</td>\n",
              "      <td>-0.146443</td>\n",
              "      <td>0.057666</td>\n",
              "      <td>0.021900</td>\n",
              "      <td>0.022777</td>\n",
              "      <td>1.090628</td>\n",
              "      <td>0.006544</td>\n",
              "      <td>0.009117</td>\n",
              "      <td>1.027560</td>\n",
              "      <td>0.0</td>\n",
              "    </tr>\n",
              "    <tr>\n",
              "      <th>2022-05-31</th>\n",
              "      <td>0.077454</td>\n",
              "      <td>0.009397</td>\n",
              "      <td>0.067657</td>\n",
              "      <td>31792.310547</td>\n",
              "      <td>-0.146132</td>\n",
              "      <td>0.002078</td>\n",
              "      <td>0.030803</td>\n",
              "      <td>36.391116</td>\n",
              "      <td>51.154006</td>\n",
              "      <td>1.005171</td>\n",
              "      <td>29745.658691</td>\n",
              "      <td>29759.279762</td>\n",
              "      <td>1</td>\n",
              "      <td>-0.164364</td>\n",
              "      <td>0.057768</td>\n",
              "      <td>0.077445</td>\n",
              "      <td>0.090298</td>\n",
              "      <td>1.253042</td>\n",
              "      <td>0.021900</td>\n",
              "      <td>0.022777</td>\n",
              "      <td>1.090628</td>\n",
              "      <td>1.0</td>\n",
              "    </tr>\n",
              "    <tr>\n",
              "      <th>2022-06-01</th>\n",
              "      <td>0.002165</td>\n",
              "      <td>-0.009072</td>\n",
              "      <td>-0.057040</td>\n",
              "      <td>29799.080078</td>\n",
              "      <td>0.226536</td>\n",
              "      <td>-0.062695</td>\n",
              "      <td>0.083239</td>\n",
              "      <td>34.041939</td>\n",
              "      <td>43.554422</td>\n",
              "      <td>0.851437</td>\n",
              "      <td>29795.520345</td>\n",
              "      <td>29800.361886</td>\n",
              "      <td>2</td>\n",
              "      <td>-0.228625</td>\n",
              "      <td>0.059741</td>\n",
              "      <td>0.002078</td>\n",
              "      <td>0.030803</td>\n",
              "      <td>1.005171</td>\n",
              "      <td>0.077445</td>\n",
              "      <td>0.090298</td>\n",
              "      <td>1.253042</td>\n",
              "      <td>0.0</td>\n",
              "    </tr>\n",
              "  </tbody>\n",
              "</table>\n",
              "</div>\n",
              "      <button class=\"colab-df-convert\" onclick=\"convertToInteractive('df-885b5346-5e3b-4d0f-81fd-19ddd1af51bd')\"\n",
              "              title=\"Convert this dataframe to an interactive table.\"\n",
              "              style=\"display:none;\">\n",
              "        \n",
              "  <svg xmlns=\"http://www.w3.org/2000/svg\" height=\"24px\"viewBox=\"0 0 24 24\"\n",
              "       width=\"24px\">\n",
              "    <path d=\"M0 0h24v24H0V0z\" fill=\"none\"/>\n",
              "    <path d=\"M18.56 5.44l.94 2.06.94-2.06 2.06-.94-2.06-.94-.94-2.06-.94 2.06-2.06.94zm-11 1L8.5 8.5l.94-2.06 2.06-.94-2.06-.94L8.5 2.5l-.94 2.06-2.06.94zm10 10l.94 2.06.94-2.06 2.06-.94-2.06-.94-.94-2.06-.94 2.06-2.06.94z\"/><path d=\"M17.41 7.96l-1.37-1.37c-.4-.4-.92-.59-1.43-.59-.52 0-1.04.2-1.43.59L10.3 9.45l-7.72 7.72c-.78.78-.78 2.05 0 2.83L4 21.41c.39.39.9.59 1.41.59.51 0 1.02-.2 1.41-.59l7.78-7.78 2.81-2.81c.8-.78.8-2.07 0-2.86zM5.41 20L4 18.59l7.72-7.72 1.47 1.35L5.41 20z\"/>\n",
              "  </svg>\n",
              "      </button>\n",
              "      \n",
              "  <style>\n",
              "    .colab-df-container {\n",
              "      display:flex;\n",
              "      flex-wrap:wrap;\n",
              "      gap: 12px;\n",
              "    }\n",
              "\n",
              "    .colab-df-convert {\n",
              "      background-color: #E8F0FE;\n",
              "      border: none;\n",
              "      border-radius: 50%;\n",
              "      cursor: pointer;\n",
              "      display: none;\n",
              "      fill: #1967D2;\n",
              "      height: 32px;\n",
              "      padding: 0 0 0 0;\n",
              "      width: 32px;\n",
              "    }\n",
              "\n",
              "    .colab-df-convert:hover {\n",
              "      background-color: #E2EBFA;\n",
              "      box-shadow: 0px 1px 2px rgba(60, 64, 67, 0.3), 0px 1px 3px 1px rgba(60, 64, 67, 0.15);\n",
              "      fill: #174EA6;\n",
              "    }\n",
              "\n",
              "    [theme=dark] .colab-df-convert {\n",
              "      background-color: #3B4455;\n",
              "      fill: #D2E3FC;\n",
              "    }\n",
              "\n",
              "    [theme=dark] .colab-df-convert:hover {\n",
              "      background-color: #434B5C;\n",
              "      box-shadow: 0px 1px 3px 1px rgba(0, 0, 0, 0.15);\n",
              "      filter: drop-shadow(0px 1px 2px rgba(0, 0, 0, 0.3));\n",
              "      fill: #FFFFFF;\n",
              "    }\n",
              "  </style>\n",
              "\n",
              "      <script>\n",
              "        const buttonEl =\n",
              "          document.querySelector('#df-885b5346-5e3b-4d0f-81fd-19ddd1af51bd button.colab-df-convert');\n",
              "        buttonEl.style.display =\n",
              "          google.colab.kernel.accessAllowed ? 'block' : 'none';\n",
              "\n",
              "        async function convertToInteractive(key) {\n",
              "          const element = document.querySelector('#df-885b5346-5e3b-4d0f-81fd-19ddd1af51bd');\n",
              "          const dataTable =\n",
              "            await google.colab.kernel.invokeFunction('convertToInteractive',\n",
              "                                                     [key], {});\n",
              "          if (!dataTable) return;\n",
              "\n",
              "          const docLinkHtml = 'Like what you see? Visit the ' +\n",
              "            '<a target=\"_blank\" href=https://colab.research.google.com/notebooks/data_table.ipynb>data table notebook</a>'\n",
              "            + ' to learn more about interactive tables.';\n",
              "          element.innerHTML = '';\n",
              "          dataTable['output_type'] = 'display_data';\n",
              "          await google.colab.output.renderOutput(dataTable, element);\n",
              "          const docLink = document.createElement('div');\n",
              "          docLink.innerHTML = docLinkHtml;\n",
              "          element.appendChild(docLink);\n",
              "        }\n",
              "      </script>\n",
              "    </div>\n",
              "  </div>\n",
              "  "
            ]
          },
          "metadata": {},
          "execution_count": 57
        }
      ]
    },
    {
      "cell_type": "code",
      "source": [
        "# create train test split\n",
        "df_tts = df.copy()\n",
        "X = df_tts.drop('TARGET', axis=1)\n",
        "y = df_tts[\"TARGET\"]\n",
        "X.shape, y.shape"
      ],
      "metadata": {
        "colab": {
          "base_uri": "https://localhost:8080/"
        },
        "id": "05w3jOkxDsua",
        "outputId": "f450749c-fb2f-483d-d9f6-6ea3a13f1cc0"
      },
      "execution_count": 58,
      "outputs": [
        {
          "output_type": "execute_result",
          "data": {
            "text/plain": [
              "((1948, 21), (1948,))"
            ]
          },
          "metadata": {},
          "execution_count": 58
        }
      ]
    },
    {
      "cell_type": "code",
      "source": [
        "X_train, X_test, y_train, y_test = train_test_split(X, y, test_size=0.2, random_state=883)"
      ],
      "metadata": {
        "id": "qEpUZBcuHA5t"
      },
      "execution_count": 59,
      "outputs": []
    },
    {
      "cell_type": "code",
      "source": [
        "# build first classifier model - baseline model\n",
        "clf_0 = XGBClassifier(\n",
        "    objective=\"binary:logistic\",\n",
        "    booster=\"gbtree\",\n",
        "    eval_metric=\"logloss\",\n",
        "    subsample=0.8,\n",
        "    colsample_bytree=1,\n",
        "    random_state=883,\n",
        "    use_label_encoder=False\n",
        ")"
      ],
      "metadata": {
        "id": "PrychXYIHEgL"
      },
      "execution_count": 60,
      "outputs": []
    },
    {
      "cell_type": "code",
      "source": [
        "# find hyperparameters\n",
        "param_grid = {\n",
        "    \"gamma\": [0, 0.1, 0.2, 0.5, 1, 1.5, 2, 3, 6, 12, 20],\n",
        "    \"learning_rate\": [0.01, 0.02, 0.03, 0.05, 0.1, 0.2, 0.3, 0.5, 0.7, 0.8],\n",
        "    \"max_depth\": [1, 2, 3, 4, 5, 6, 8, 12],\n",
        "    \"n_estimators\": [25, 50, 65, 80, 100, 115, 200]\n",
        "}"
      ],
      "metadata": {
        "id": "b0QIxeUXKdNR"
      },
      "execution_count": 61,
      "outputs": []
    },
    {
      "cell_type": "code",
      "source": [
        "# perform random search to find best params\n",
        "grid_search = RandomizedSearchCV(\n",
        "  estimator=clf_0, \n",
        "  param_distributions=param_grid, \n",
        "  scoring=\"precision\"\n",
        "  )\n",
        "best_model = grid_search.fit(X_train, y_train)\n",
        "hyperparams = best_model.best_params_\n",
        "hyperparams"
      ],
      "metadata": {
        "colab": {
          "base_uri": "https://localhost:8080/"
        },
        "id": "RHo9CQTgKoTy",
        "outputId": "33062d82-873a-473b-a3ab-69142bd696cb"
      },
      "execution_count": 62,
      "outputs": [
        {
          "output_type": "execute_result",
          "data": {
            "text/plain": [
              "{'n_estimators': 50, 'max_depth': 3, 'learning_rate': 0.05, 'gamma': 0.2}"
            ]
          },
          "metadata": {},
          "execution_count": 62
        }
      ]
    },
    {
      "cell_type": "code",
      "source": [
        "# build model_1 based on the calulated optimal params\n",
        "clf_1 = XGBClassifier(\n",
        "    objective=\"binary:logistic\",\n",
        "    booster=\"gbtree\",\n",
        "    eval_metric=\"logloss\",\n",
        "    subsample=0.8,\n",
        "    colsample_bytree=1,\n",
        "    random_state=883,\n",
        "    use_label_encoder=False,\n",
        "    n_estimators=hyperparams[\"n_estimators\"],\n",
        "    learning_rate=hyperparams[\"learning_rate\"],\n",
        "    max_depth=hyperparams[\"max_depth\"],\n",
        "    gamma=hyperparams[\"gamma\"]\n",
        ")"
      ],
      "metadata": {
        "id": "vHzWmGlILjZU"
      },
      "execution_count": 63,
      "outputs": []
    },
    {
      "cell_type": "code",
      "source": [
        "# fit model\n",
        "clf_1.fit(\n",
        "    X_train,\n",
        "    y_train,\n",
        "    eval_metric=['error', 'logloss'],\n",
        "    eval_set=[(X_train, y_train)],\n",
        "    verbose=False\n",
        ")"
      ],
      "metadata": {
        "colab": {
          "base_uri": "https://localhost:8080/"
        },
        "id": "1AUwoLIyNWR-",
        "outputId": "2b45c7a0-b596-443f-d5e9-0da1fc1ef3c7"
      },
      "execution_count": 64,
      "outputs": [
        {
          "output_type": "execute_result",
          "data": {
            "text/plain": [
              "XGBClassifier(eval_metric='logloss', gamma=0.2, learning_rate=0.05,\n",
              "              n_estimators=50, random_state=883, subsample=0.8,\n",
              "              use_label_encoder=False)"
            ]
          },
          "metadata": {},
          "execution_count": 64
        }
      ]
    },
    {
      "cell_type": "code",
      "source": [
        "# set K_Fold cross validation levels\n",
        "cv = RepeatedStratifiedKFold(n_splits=5, n_repeats=3, random_state=883)"
      ],
      "metadata": {
        "id": "-NHIJOjIO-Fv"
      },
      "execution_count": 65,
      "outputs": []
    },
    {
      "cell_type": "code",
      "source": [
        "# training results\n",
        "train_results = cross_val_score(\n",
        "    clf_1, \n",
        "    X_train, \n",
        "    y_train, \n",
        "    scoring='precision',\n",
        "    cv=cv,\n",
        "    n_jobs=1\n",
        "    )"
      ],
      "metadata": {
        "id": "hrvR30PPPoIh"
      },
      "execution_count": 66,
      "outputs": []
    },
    {
      "cell_type": "code",
      "source": [
        "# plot feature importances\n",
        "plt.figure(figsize=(22,5))\n",
        "importance_labels = X.columns\n",
        "importance_features = clf_1.feature_importances_\n",
        "plt.bar(importance_labels, importance_features)\n",
        "plt.show()"
      ],
      "metadata": {
        "colab": {
          "base_uri": "https://localhost:8080/",
          "height": 260
        },
        "id": "0FKn3lKrQsOX",
        "outputId": "6919807b-d754-47b6-8b58-8fba73891c44"
      },
      "execution_count": 67,
      "outputs": [
        {
          "output_type": "display_data",
          "data": {
            "text/plain": [
              "<Figure size 1584x360 with 1 Axes>"
            ],
            "image/png": "[encoded data removed]"
          },
          "metadata": {
            "needs_background": "light"
          }
        }
      ]
    },
    {
      "cell_type": "code",
      "source": [
        "# select best features\n",
        "mean_feature_importance = importance_features.mean()\n",
        "print(mean_feature_importance)\n",
        "i = 0 \n",
        "best_feature_labels = []\n",
        "best_feature_scores = []\n",
        "\n",
        "for importance_score in importance_features:\n",
        "  if importance_score > mean_feature_importance:\n",
        "    best_feature_labels.append(importance_labels[i])\n",
        "    best_feature_scores.append(importance_score)\n",
        "  i += 1"
      ],
      "metadata": {
        "colab": {
          "base_uri": "https://localhost:8080/"
        },
        "id": "wQMOzdF0SISu",
        "outputId": "f5cfe234-4f6a-4234-b6c6-b746840992ce"
      },
      "execution_count": 74,
      "outputs": [
        {
          "output_type": "stream",
          "name": "stdout",
          "text": [
            "0.04761904\n"
          ]
        }
      ]
    },
    {
      "cell_type": "code",
      "source": [
        "# plot recommended features\n",
        "plt.figure(figsize=(15,5))\n",
        "plt.bar(best_feature_labels, best_feature_scores)\n",
        "plt.show()"
      ],
      "metadata": {
        "colab": {
          "base_uri": "https://localhost:8080/",
          "height": 321
        },
        "id": "UUhTGPnHUVXC",
        "outputId": "4c89735a-5692-4ed0-b9ef-a6b620c87b81"
      },
      "execution_count": 71,
      "outputs": [
        {
          "output_type": "display_data",
          "data": {
            "text/plain": [
              "<Figure size 1080x360 with 1 Axes>"
            ],
            "image/png": "[encoded data removed]"
          },
          "metadata": {
            "needs_background": "light"
          }
        }
      ]
    }
  ]
}